{
 "cells": [
  {
   "cell_type": "code",
   "execution_count": null,
   "metadata": {
    "cellView": "form",
    "id": "HwOueIhIQPBd"
   },
   "outputs": [],
   "source": [
    "#@title [RUN] Install required python libraries\n",
    "import os\n",
    "\n",
    "# Install PyTorch Geometric and other libraries\n",
    "# if 'IS_GRADESCOPE_ENV' not in os.environ:\n",
    "#     !pip install -q torch-scatter -f https://pytorch-geometric.com/whl/torch-1.10.0+cu111.html\n",
    "#     !pip install -q torch-sparse -f https://pytorch-geometric.com/whl/torch-1.10.0+cu111.html\n",
    "#     !pip install -q torch-geometric==2.0.3\n",
    "#     !pip install -q rdkit-pypi==2021.9.4\n",
    "#     !pip install -q py3Dmol==1.8.0\n",
    "!jupyter nbextension enable --py widgetsnbextension"
   ]
  },
  {
   "cell_type": "code",
   "execution_count": 1,
   "metadata": {
    "cellView": "form",
    "id": "mvIHO8B_RjeG",
    "lines_to_next_cell": 2
   },
   "outputs": [
    {
     "name": "stdout",
     "output_type": "stream",
     "text": [
      "PyTorch version 2.3.1\n",
      "PyG version 2.5.3\n"
     ]
    }
   ],
   "source": [
    "#@title [RUN] Import python modules\n",
    "\n",
    "import os\n",
    "import time\n",
    "import random\n",
    "import numpy as np\n",
    "\n",
    "from scipy.stats import ortho_group\n",
    "\n",
    "import subprocess\n",
    "import random\n",
    "import math\n",
    "import re\n",
    "import torch\n",
    "import torch.nn.functional as F\n",
    "from torch.nn import Linear, ReLU, BatchNorm1d, Module, Sequential\n",
    "\n",
    "import torch_geometric\n",
    "from torch_geometric.data import Data\n",
    "from torch_geometric.data import Batch\n",
    "from torch_geometric.datasets import QM9\n",
    "import torch_geometric.transforms as T\n",
    "from torch_geometric.utils import remove_self_loops, to_dense_adj, dense_to_sparse\n",
    "from torch_geometric.loader import DataLoader\n",
    "from torch_geometric.nn import MessagePassing, global_mean_pool\n",
    "from torch_geometric.datasets import QM9\n",
    "from torch_scatter import scatter\n",
    "from pathlib import Path\n",
    "# import rdkit.Chem as Chem\n",
    "# from rdkit.Geometry.rdGeometry import Point3D\n",
    "# from rdkit.Chem import QED, Crippen, rdMolDescriptors, rdmolops\n",
    "# from rdkit.Chem.Draw import IPythonConsole\n",
    "\n",
    "# import py3Dmol\n",
    "# from rdkit.Chem import AllChem\n",
    "\n",
    "import matplotlib.pyplot as plt\n",
    "import seaborn as sns\n",
    "import pandas as pd\n",
    "\n",
    "#from google.colab import files\n",
    "from IPython.display import HTML\n",
    "\n",
    "print(\"PyTorch version {}\".format(torch.__version__))\n",
    "print(\"PyG version {}\".format(torch_geometric.__version__))\n",
    "\n",
    "#   set the display width\n",
    "#display(HTML(\"<style>.container { width:80% !important; }</style>\"))\n"
   ]
  },
  {
   "cell_type": "code",
   "execution_count": 2,
   "metadata": {},
   "outputs": [],
   "source": [
    "####  list_files"
   ]
  },
  {
   "cell_type": "code",
   "execution_count": 3,
   "metadata": {},
   "outputs": [],
   "source": [
    "def list_files(directory, caller):\n",
    "\n",
    "\n",
    "    print(' called from ', caller, '\\n  List files in ',directory)\n",
    "    # List files in the directory\n",
    "    files = [f for f in os.listdir(directory) if os.path.isfile(os.path.join(directory, f))]\n",
    "    print(' called from ', caller, '\\n  List files in ',directory, '\\n', files)    \n",
    "    print(files)"
   ]
  },
  {
   "cell_type": "markdown",
   "metadata": {},
   "source": [
    "####   read_ev"
   ]
  },
  {
   "cell_type": "code",
   "execution_count": 4,
   "metadata": {},
   "outputs": [],
   "source": [
    "def read_ev(dfile):\n",
    "    \"\"\"\n",
    "    read event from the data file\n",
    "    \"\"\"\n",
    "    print ('read events from file ',dfile)\n",
    "\n",
    "    # Regular expression to remove ANSI escape codes\n",
    "    dfile = re.sub(r'\\x1b\\[[0-9;]*m', '', dfile)\n",
    "\n",
    "\n",
    "    table = np.loadtxt(dfile)\n",
    "\n",
    "    return table\n",
    "\n",
    "def get_nodes(table, n_req=5, dist_cut=1.0 ):\n",
    "    \n",
    "    \"\"\"\n",
    "    get the node data: list of nodes and their atributes, adjacency matrix\n",
    "    \"\"\"\n",
    "    vtrk_x = table[:,1]\n",
    "    vtrk_y = table[:,2]\n",
    "    vtrk_z = table[:,3]\n",
    "    vtrk_E = table[:,4]\n",
    "    \n",
    "    length = len(vtrk_x)\n",
    "\n",
    "    n_nodes = min(n_req,length)\n",
    "    \n",
    "    #   convert to the n array of he requested length\n",
    "    \n",
    "    vtrk_x = np.array(vtrk_x[:n_nodes])\n",
    "    vtrk_y = np.array(vtrk_y[:n_nodes])\n",
    "    vtrk_z = np.array(vtrk_z[:n_nodes])\n",
    "    vtrk_E = np.array(vtrk_E[:n_nodes])\n",
    "\n",
    "    \n",
    "    vtrk_ID = np.arange(n_nodes)\n",
    "    \n",
    "    #    for some reason it was necessary to make sure that the x values are never identical\n",
    "    for ID in vtrk_ID:\n",
    "        vtrk_x[ID] = vtrk_x[ID] + (ID * 10e-5)\n",
    "            \n",
    "    \n",
    "    # ---------------------------------------------------------------------------\n",
    "    # Create the adjacency matrix\n",
    "    # -1 --> self\n",
    "    # 0 --> not a neighbor\n",
    "    # (distance) --> nodes are neighbors\n",
    "    # ---------------------------------------------------------------------------\n",
    "     \n",
    "    # Iterate through all nodes, and for each one find the neighboring nodes.\n",
    "    adjMat = []; nnbrMat = []\n",
    "    \n",
    "    for vID1,vx1,vy1,vz1,vE1 in zip(vtrk_ID,vtrk_x,vtrk_y,vtrk_z,vtrk_E):\n",
    "        nbr_list = [];\n",
    "        nnbrs = 0;\n",
    "        for vID2,vx2,vy2,vz2,vE2 in zip(vtrk_ID,vtrk_x,vtrk_y,vtrk_z,vtrk_E):  \n",
    "            if(vx1 == vx2 and vy1 == vy2 and vz1 == vz2):\n",
    "                nbr_list.append(1.e6);\n",
    "            else:\n",
    "                # proximity cut: accept liks shorter than dist_cut\n",
    "                dist = math.sqrt((vx2-vx1)**2 + (vy2-vy1)**2 + (vz2-vz1)**2);\n",
    "                if (dist < dist_cut):\n",
    "                    #print ('\\n nodes ',vID1,vID2, vx1, vy1, vz1, vE1, vx2,vy2,vz2, vE2, vE2/dist)\n",
    "                    nbr_list.append(dist);\n",
    "                    nnbrs += 1;\n",
    "                else:\n",
    "                    nbr_list.append(1.e6);\n",
    "        nnbrMat.append(nnbrs);\n",
    "        adjMat.append(np.array(nbr_list));\n",
    "    #print (vtrk_E)\n",
    "    #print (sum(vtrk_E))\n",
    "    return n_nodes, vtrk_x, vtrk_y, vtrk_z, vtrk_E, np.array(nnbrMat), np.array(adjMat)\n",
    "\n",
    "def get_events_NEXT():\n",
    "    \n",
    "\n",
    "    \"\"\"\n",
    "    fetch list of all signal and background events\n",
    "    \"\"\"\n",
    "\n",
    "    ddir_sig   = '/Users/para/GNN_rec/db/data/double_beta/'\n",
    "    ddir_bckg  = '/Users/para/GNN_rec/db/data/single_electron/'\n",
    "\n",
    "    # Regular expression to remove ANSI escape codes\n",
    "    ddir_sig = re.sub(r'\\x1b\\[[0-9;]*m', '', ddir_sig)\n",
    "    ddir_bckg = re.sub(r'\\x1b\\[[0-9;]*m', '', ddir_bckg)\n",
    "\n",
    "    sig_files = []\n",
    "    bckg_files = []\n",
    "    \n",
    "    sig_files = subprocess.check_output('ls ' + ddir_sig + 'mctru*', shell=True).decode(\"utf-8\").split('\\n')\n",
    "    bckg_files = subprocess.check_output('ls ' + ddir_bckg + 'mctru*', shell=True).decode(\"utf-8\").split('\\n')\n",
    "\n",
    "    return sig_files, bckg_files\n",
    "\n",
    "def NEXT_data(nev=10, n_points=4, dist_cut=1.0, debug=False):\n",
    "    \n",
    "    \"\"\"\n",
    "    load nev events, n_points is the maximal number of nodes (for debugging/efficiency)\n",
    "    dis_cut defines the adjancent limit\n",
    "    \"\"\"\n",
    "    \n",
    "    \n",
    "    sig, bckg = get_events_NEXT()\n",
    "\n",
    "    all_files = sig + bckg\n",
    "    random.shuffle(all_files)\n",
    "\n",
    "    events = []\n",
    "    \n",
    "    nread = min(nev, len(all_files))\n",
    "    \n",
    "    for f in all_files[0:nread]:\n",
    "        f  = re.sub(r'\\x1b\\[[0-9;]*m', '', f)   #  remove the escape code (color)\n",
    "\n",
    "        if len(f) < 10: continue     #   list of files cantain empty lines at the end of the ls output\n",
    "\n",
    "        if f.find('single') > 0:\n",
    "            targ = 0                 # background tag\n",
    "        if f.find('double') > 0:\n",
    "            targ = 1                 # signal tag\n",
    "\n",
    "        # print ('  try to read event from file ', f)\n",
    "        #   # Check file existence and readability\n",
    "\n",
    "        # dfile = f \n",
    "        # file_path = Path(dfile)\n",
    "        # if file_path.exists():\n",
    "        #     print(f\"File {dfile} exists.\")\n",
    "        #     if os.access(dfile, os.R_OK):\n",
    "        #         print(f\"File {dfile} is readable.\")\n",
    "        #     else:\n",
    "        #         print(f\"File {dfile} is not readable.\")\n",
    "        # else:\n",
    "        #     print(f\"File {dfile} does not exist.\")\n",
    "            \n",
    "        table =  read_ev(f)   \n",
    "        n_nodes, vtrk_x, vtrk_y, vtrk_z, vtrk_E, nnbrMat, adjMat = get_nodes(table, n_req=n_points, dist_cut=dist_cut )\n",
    "\n",
    "        if debug:\n",
    "            print ('  NEXT_data from file ', f )\n",
    "            for nn in range(n_nodes):\n",
    "                print ('x,y,z,E ',vtrk_x[nn],vtrk_y[nn],vtrk_z[nn],vtrk_E[nn])\n",
    "            print ('AdjMat\\n',adjMat)\n",
    "            print ('number of neighbours ', nnbrMat)\n",
    "\n",
    "        dlim = 10.\n",
    "        \n",
    "        feats = []   #  node features \n",
    "\n",
    "        edge_ind = []\n",
    "        edge_val = []\n",
    "    \n",
    "        for nn in range(n_nodes):\n",
    "            n_neigh = nnbrMat[nn]\n",
    "#             print ('  node ', nn, n_neigh, ' neighbours')\n",
    "            av_en   = 0.\n",
    "            en_dens = 0.\n",
    "            av_len  = 0.\n",
    "            \n",
    "            for mm in range( n_nodes):\n",
    "                if adjMat[nn,mm] > dlim: continue\n",
    "                #print ('  link ', nn,mm, vtrk_E[mm], adjMat[nn,mm])\n",
    "                av_en   += vtrk_E[mm]\n",
    "                en_dens += vtrk_E[mm]/adjMat[nn,mm] \n",
    "                av_len  += adjMat[nn,mm] \n",
    "                \n",
    "                edge_ind.append((nn,mm))\n",
    "                edge_val.append(adjMat[nn,mm] )\n",
    "                \n",
    "            if n_neigh>0:\n",
    "                \n",
    "                av_en   = av_en/n_neigh\n",
    "                av_len  = av_len/n_neigh\n",
    "                en_dens = en_dens/n_neigh\n",
    "                \n",
    "            \n",
    "            feat = (vtrk_E[nn], n_neigh, av_en, en_dens, av_len)\n",
    "            feats.append(feat)\n",
    "            \n",
    "#             print ('  node ', nn,'   mean energy', av_en, '  en_dens',en_dens, n_neigh)\n",
    "            pos = np.array([vtrk_x.tolist(), vtrk_y.tolist(), vtrk_z.tolist()])\n",
    "    \n",
    "        ev = (targ, pos, feats, edge_ind, edge_val, n_nodes)\n",
    "        \n",
    "        events.append(ev)\n",
    "    \n",
    "    return events"
   ]
  },
  {
   "cell_type": "code",
   "execution_count": 5,
   "metadata": {},
   "outputs": [],
   "source": [
    "def NEXT100_events_from_file(f, nev=1, n_points=4, dist_cut=1.0, debug=False, ext='.GNN_inp'):\n",
    "    \n",
    "    \"\"\"\n",
    "    read a single file.. it contains multiple events\n",
    "    load nev events, n_points is the maximal number of nodes (for debugging/efficiency)\n",
    "    dis_cut defines the adjancent limit\n",
    "    \"\"\"\n",
    "    if debug:\n",
    "        print ('   Fetch events from file ',f)\n",
    "        \n",
    "    np.set_printoptions(linewidth=9999999)\n",
    "    \n",
    "\n",
    "    \n",
    "    if f.find('1eroi') > 0:\n",
    "        targ = 0                 # background tag\n",
    "    if f.find('0nubb') > 0:\n",
    "        targ = 1                 # signal tag\n",
    "\n",
    "    #   read all events from a file\n",
    "    rd_events = read_events(f, debug=False) \n",
    " \n",
    "    #   loop over all events \n",
    "\n",
    "    events = []\n",
    "     \n",
    "    ev_no = 0\n",
    "    \n",
    "    for table in rd_events:\n",
    "        \n",
    "        if ev_no > nev: continue\n",
    "        ev_no += 1\n",
    "        \n",
    "        n_nodes, vtrk_x, vtrk_y, vtrk_z, vtrk_E, nnbrMat, adjMat = get_nodes_josh(table, n_req=n_points, dist_cut=dist_cut, ecut=4.e-4, plot=False )\n",
    "    \n",
    "        if debug:\n",
    "            print ('  NEXT_data from file ', f )\n",
    "            for nn in range(n_nodes):\n",
    "                print ('x,y,z,E ',vtrk_x[nn],vtrk_y[nn],vtrk_z[nn],vtrk_E[nn])\n",
    "            print ('AdjMat\\n',adjMat)\n",
    "            print ('number of neighbours ', nnbrMat)\n",
    "    \n",
    "        dlim = 10.\n",
    "        \n",
    "        feats = []   #  node features \n",
    "    \n",
    "        edge_ind = []\n",
    "        edge_val = []\n",
    "    \n",
    "        for nn in range(n_nodes):\n",
    "            \n",
    "            nodes = []\n",
    "            \n",
    "            n_neigh = nnbrMat[nn]\n",
    "    #             print ('  node ', nn, n_neigh, ' neighbours')\n",
    "            av_en   = 0.\n",
    "            en_dens = 0.\n",
    "            av_len  = 0.\n",
    "            \n",
    "            for mm in range( n_nodes):\n",
    "                if adjMat[nn,mm] > dlim: continue\n",
    "                #print ('  link ', nn,mm, vtrk_E[mm], adjMat[nn,mm])\n",
    "                \n",
    "                av_en   += vtrk_E[mm]\n",
    "                en_dens += vtrk_E[mm]/adjMat[nn,mm] \n",
    "                av_len  += adjMat[nn,mm] \n",
    "                \n",
    "                edge_ind.append((nn,mm))\n",
    "                edge_val.append(adjMat[nn,mm] )\n",
    "                \n",
    "            if n_neigh>0:\n",
    "                \n",
    "                av_en   = av_en/n_neigh\n",
    "                av_len  = av_len/n_neigh\n",
    "                en_dens = en_dens/n_neigh\n",
    "                \n",
    "            \n",
    "            feat = (vtrk_E[nn], n_neigh, av_en, en_dens, av_len)\n",
    "            feats.append(feat)\n",
    "            \n",
    "    #             print ('  node ', nn,'   mean energy', av_en, '  en_dens',en_dens, n_neigh)\n",
    "            pos = np.array([vtrk_x.tolist(), vtrk_y.tolist(), vtrk_z.tolist()])\n",
    "    \n",
    "            node = (targ, pos, feats, edge_ind, edge_val, n_nodes)\n",
    "            nodes.append(node)\n",
    "            \n",
    "        events.append(nodes)\n",
    "        \n",
    "        \n",
    "           \n",
    "    return events\n",
    "\n",
    "\n",
    "\n",
    "def get_nodes_josh(table, n_req=5, dist_cut=10.0 , ecut=4.e-4, debug=False, plot=False):\n",
    "    \n",
    "    \"\"\"\n",
    "    get the node data: list of nodes and their atributes, adjacency matrix\n",
    "    \"\"\"\n",
    "    if debug:\n",
    "        print ('---->   get nodes, the input table check ')\n",
    "        print (type(table))\n",
    "        print ('  nodes ', table.shape)\n",
    "    tableT = table.T\n",
    "    \n",
    "    x = tableT[0]\n",
    "    y = tableT[1]\n",
    "    z = tableT[2]\n",
    "    E = tableT[3]\n",
    " \n",
    "    if plot: \n",
    "        #   analyze the spectrum of nodes to optimize the energy cutoff\n",
    "        sns.histplot(data=E , color=\"red\", bins=100, cumulative=True)  \n",
    "        plt.show()\n",
    "        \n",
    "    vtrk_x, vtrk_y, vtrk_z, vtrk_E = [], [], [], []\n",
    "\n",
    "    for xx,yy,zz,ee in zip(x,y,z,E):\n",
    "        \n",
    "         if ee < ecut: continue        #  eliminate low signal nodes\n",
    "    \n",
    "         vtrk_x.append(xx)\n",
    "         vtrk_y.append(yy)\n",
    "         vtrk_z.append(zz)\n",
    "         vtrk_E.append(ee)\n",
    " \n",
    "    length = len(vtrk_x)\n",
    "    n_nodes = min(n_req,length)             #   for debugging purposes save fewer nodes     \n",
    "    vtrk_ID = np.arange(n_nodes)\n",
    "\n",
    "    \n",
    "    #   convert to the n array of he requested length\n",
    "    \n",
    "    vtrk_x = np.array(vtrk_x[:n_nodes])\n",
    "    vtrk_y = np.array(vtrk_y[:n_nodes])\n",
    "    vtrk_z = np.array(vtrk_z[:n_nodes])\n",
    "    vtrk_E = np.array(vtrk_E[:n_nodes])\n",
    "\n",
    "\n",
    "    vtrk_ID = np.arange(n_nodes)\n",
    "    \n",
    "    #    for some reason it was necessary to make sure that the x values are never identical\n",
    "    for ID in vtrk_ID:\n",
    "        vtrk_x[ID] = vtrk_x[ID] + (ID * 10e-5)\n",
    "            \n",
    "    \n",
    "    # ---------------------------------------------------------------------------\n",
    "    # Create the adjacency matrix\n",
    "    # -1 --> self\n",
    "    # 0 --> not a neighbor\n",
    "    # (distance) --> nodes are neighbors\n",
    "    # ---------------------------------------------------------------------------\n",
    "     \n",
    "    # Iterate through all nodes, and for each one find the neighboring nodes.\n",
    "    adjMat = []; nnbrMat = []\n",
    "    \n",
    "    for vID1,vx1,vy1,vz1,vE1 in zip(vtrk_ID,vtrk_x,vtrk_y,vtrk_z,vtrk_E):\n",
    "        nbr_list = [];\n",
    "        nnbrs = 0;\n",
    "        for vID2,vx2,vy2,vz2,vE2 in zip(vtrk_ID,vtrk_x,vtrk_y,vtrk_z,vtrk_E):  \n",
    "            if(vx1 == vx2 and vy1 == vy2 and vz1 == vz2):\n",
    "                nbr_list.append(1.e6);\n",
    "            else:\n",
    "                # proximity cut: accept liks shorter than dist_cut\n",
    "                dist = math.sqrt((vx2-vx1)**2 + (vy2-vy1)**2 + (vz2-vz1)**2);\n",
    "                if (dist < dist_cut):\n",
    "                    #print ('\\n nodes ',vID1,vID2, vx1, vy1, vz1, vE1, vx2,vy2,vz2, vE2, vE2/dist)\n",
    "                    nbr_list.append(dist);\n",
    "                    nnbrs += 1;\n",
    "                else:\n",
    "                    nbr_list.append(1.e6);\n",
    "        nnbrMat.append(nnbrs);\n",
    "        adjMat.append(np.array(nbr_list));\n",
    "\n",
    "    return n_nodes, vtrk_x, vtrk_y, vtrk_z, vtrk_E, np.array(nnbrMat), np.array(adjMat)\n",
    "\n",
    "def read_events(dfile, debug=False):\n",
    "    \"\"\"\n",
    "    read events from the data file\n",
    "    \"\"\"\n",
    "    \n",
    "    events = []\n",
    "    f = open(dfile)\n",
    "    linea = f.readlines()  \n",
    "    f.close()\n",
    "\n",
    "    table = np.loadtxt(dfile,comments='E')\n",
    "\n",
    "    if debug:\n",
    "        print ('  file ',dfile, '\\n', '  number of lines ',len(linea))\n",
    "    #   identify the event header\n",
    "    \n",
    "    ev_head = []\n",
    "\n",
    "    lin_no = -1\n",
    "    \n",
    "    for lin in linea:\n",
    "        lin_no += 1\n",
    "        if lin.find('Ev') > -1:\n",
    "            ev_head.append(lin_no)\n",
    "\n",
    "    n_events = len(ev_head) \n",
    "    \n",
    "\n",
    "    if debug:     \n",
    "        print (' number of events  ',n_events)\n",
    "        for beg in ev_head:\n",
    "            print (' event header', linea[beg])\n",
    "\n",
    "    ev_head.append(len(linea))  # end of the last event\n",
    "    \n",
    "    for iev in range(n_events):\n",
    "        \n",
    "        len_ev = ev_head[iev+1] - ev_head[iev] -1\n",
    "        \n",
    "        jbeg =  ev_head[iev] - iev\n",
    "        jend =  ev_head[iev] + len_ev - iev - 1    #   poinsta numberng starts at 'local 0'\n",
    "\n",
    "        event = table[jbeg:jend+1]\n",
    "        events.append(event)        \n",
    "        \n",
    "        if debug:\n",
    "            print ( 'jbeg, jend ',jbeg, jend)\n",
    "            print ('  event no', iev, '  length ', len_ev )\n",
    "            print ('   first point ',table[jbeg])\n",
    "            print ('   last point ',table[jend])\n",
    "        \n",
    "            for linn in range(jend-3, jend+5):\n",
    "                print ('  line ', linn, '  ', linea[linn].rstrip())\n",
    "    \n",
    "            for linn in range(jend-3, jend+1):\n",
    "    \n",
    "               print ('  table[linn-iev] ', linn-iev, '   ', table[linn-iev])        \n",
    "\n",
    "    \n",
    "    return events\n"
   ]
  },
  {
   "cell_type": "markdown",
   "metadata": {},
   "source": [
    "#### make list of available files\n",
    "Files are in the directory /home/para/GNN_loc/NEXT100_data/(1eroi)(0nubb)/beersheba\n",
    "0unubb have 50 ev, 1eroi have 200 events\n",
    "(at the moment only 111 signal files are copied over)\n"
   ]
  },
  {
   "cell_type": "code",
   "execution_count": 6,
   "metadata": {},
   "outputs": [],
   "source": [
    "def Fetch_NEXT100_events(nev= 99999999, n_points=9999, dist_cut=1.0, n_bckg_files=5, det = 'mc', debug=False):\n",
    "\n",
    "    #   fetch data for the detector type 'det'\n",
    "\n",
    "    datadir = '/home/para/GNN_loc/NEXT100_data/evtype/beersheba/'\n",
    "    \n",
    "    datadir_sig = datadir.replace('evtype','0nubb')\n",
    "    datadir_bck = datadir.replace('evtype','1eroi')\n",
    "\n",
    "    inp_files_sig = datadir_sig + 'beersheba*' + det + '*.txt'\n",
    "    file_list_sig = subprocess.getoutput(' echo \"`ls ' + inp_files_sig + '`\"').split('\\n')\n",
    "\n",
    "    inp_files_bck = datadir_bck + 'beersheba*' + det + '*.txt'\n",
    "    file_list_bck = subprocess.getoutput(' echo \"`ls ' + inp_files_bck + '`\"').split('\\n')\n",
    "\n",
    "    print ('   number of signal files     = ', len(file_list_sig))\n",
    "    print ('   number of background files = ', len(file_list_bck))\n",
    "\n",
    "\n",
    "    n_sig_files  = 4 * n_bckg_files\n",
    "\n",
    "    all_files = file_list_bck[:n_bckg_files] + file_list_sig[:n_sig_files]\n",
    "    random.shuffle(all_files)\n",
    "\n",
    "    if debug:\n",
    "        ntest = min(5,len(all_files))\n",
    "        for ii in range(ntest):\n",
    "\n",
    "            print (ii, all_files[ii])\n",
    "\n",
    "    events = []\n",
    "    ev_no = 0\n",
    "    \n",
    "    for ff in all_files:\n",
    "        if ev_no > nev: continue\n",
    "        evv = NEXT100_events_from_file(ff,  nev=nev, n_points=n_points, dist_cut=dist_cut, debug=False)\n",
    "        print ('File  ', ff, '  number of events  ',len(evv))\n",
    "        events += evv\n",
    "        ev_no += len(evv)\n",
    "\n",
    "    print ('   Total number of events  ',len(events))\n",
    "    \n",
    "    return events"
   ]
  },
  {
   "cell_type": "markdown",
   "metadata": {},
   "source": [
    "###   Load the NEXT100 data"
   ]
  },
  {
   "cell_type": "code",
   "execution_count": 7,
   "metadata": {},
   "outputs": [],
   "source": [
    "import os\n",
    "import os.path as osp\n",
    "import sys\n",
    "from typing import Callable, List, Optional\n",
    "\n",
    "import torch\n",
    "import torch.nn.functional as F\n",
    "from torch_scatter import scatter\n",
    "from tqdm import tqdm\n",
    "\n",
    "from torch_geometric.data import (\n",
    "    Data,\n",
    "    InMemoryDataset,\n",
    "    download_url,\n",
    "    extract_zip,\n",
    ")\n",
    "\n",
    "\n",
    "class NEXT_100(InMemoryDataset):\n",
    "\n",
    "    def __init__(self, root: str, det: str, n_bck_files: int, nev: int, n_points: int,\n",
    "                 transform: Optional[Callable] = None,\n",
    "                 pre_transform: Optional[Callable] = None,\n",
    "                 pre_filter: Optional[Callable] = None):\n",
    "\n",
    "        print (' ========   class NEXT_100 initialization    ============')\n",
    "        print ('   NEXT100, root  ',root)\n",
    "   \n",
    "        self.det          = det\n",
    "        self.n_bckg_files = n_bck_files\n",
    "        self.nev          = nev\n",
    "        self.n_points     = n_points\n",
    "        self.dist_cut     = 1.0\n",
    "        \n",
    "        print (' detector                         ', self.det)\n",
    "        print (' number of background data files  ',self.n_bckg_files )\n",
    "        print (' number of events                 ', self.nev)\n",
    "        print (' number of points                 ', self.n_points )\n",
    "        print (' proximity cut                    ', self.dist_cut )\n",
    "        \n",
    "        super().__init__(root, transform, pre_transform, pre_filter)\n",
    "        print ('  processed_path                  ',self.processed_paths[0])  \n",
    "        self.data, self.slices = torch.load(self.processed_paths[0])\n",
    "\n",
    "\n",
    "\n",
    "        print ('data type                         ', type(self.data))\n",
    "        print ('slices type                       ', type(self.slices))\n",
    "        \n",
    "        print ('==========================================================')\n",
    "\n",
    "\n",
    "     \n",
    "    def mean(self, target: int) -> float:\n",
    "        y = torch.cat([self.get(i).y for i in range(len(self))], dim=0)\n",
    "        return float(y[:, target].mean())\n",
    "\n",
    "    def std(self, target: int) -> float:\n",
    "        y = torch.cat([self.get(i).y for i in range(len(self))], dim=0)\n",
    "        return float(y[:, target].std())\n",
    "\n",
    "    @property\n",
    "    def raw_file_names(self) -> List[str]:\n",
    "        #  A list of files in the raw_dir which needs to be found in order to skip the download\n",
    "        return ['uncharacterized.txt']\n",
    "\n",
    "\n",
    "    @property\n",
    "    def processed_file_names(self) -> str:\n",
    "        #  A list of files in the processed_dir which needs to be found in order to skip the processing.\n",
    "        return 'data_v3.pt'\n",
    "\n",
    "    def download(self):\n",
    "        print ('   Not intended to download, check!!!')\n",
    "\n",
    "\n",
    "    def process(self):\n",
    "\n",
    "        print (' --------------   Process: Import the data      ---------------')\n",
    "        print (' detector                         ', self.det)\n",
    "        print (' number of background data files  ',self.n_bckg_files )\n",
    "        print (' number of events                 ', self.nev)\n",
    "        print (' number of points                 ', self.n_points )\n",
    "\n",
    "        data_list = []\n",
    "        debug = False\n",
    "        \n",
    "        if self.det == 'mc_josh':\n",
    "            print ('use old NEXT simulation')\n",
    "            ev = NEXT_data(nev= self.nev, n_points=self.n_points, dist_cut=self.dist_cut, debug=False)\n",
    "            \n",
    "            for iev in range(len(ev)):\n",
    "\n",
    "                (targ, posn, feats, edge_ind, edge_val, n_nodes) = ev[iev]\n",
    "                N = n_nodes\n",
    "                print ('event  ',iev,'   number of nodes ',N, '   ',targ) \n",
    "                if N==0: continue\n",
    "                posn = posn.transpose()\n",
    "\n",
    "                row = []\n",
    "                col = []\n",
    "                link_att   = torch.Tensor([1,0,0,0])\n",
    "                stack = []\n",
    "                \n",
    "                for iii in range(N):\n",
    "                    for jjj in range(N):\n",
    "                        if iii == jjj: continue\n",
    "\n",
    "                        if (iii,jjj) in edge_ind:\n",
    "                            ind = edge_ind.index((iii,jjj))\n",
    "                            link_att   = torch.Tensor([edge_val[ind]])\n",
    "                        else:\n",
    "                            link_att   = torch.Tensor([0])    \n",
    "\n",
    "                        row.append(iii)\n",
    "                        col.append(jjj)\n",
    "                        stack.append(link_att)\n",
    "\n",
    "                row = torch.tensor(row, dtype=torch.long)\n",
    "                col = torch.tensor(col, dtype=torch.long)\n",
    "                edge_index = torch.stack([row, col], dim=0)\n",
    "                edge_attr = torch.stack(stack, dim=0)\n",
    "\n",
    "                posn_torch = torch.tensor(posn, dtype=torch.float)\n",
    "                if debug: print ('  node positions ', posn_torch)\n",
    "\n",
    "                x = torch.Tensor(feats)\n",
    "                y = torch.Tensor([[targ,0.]])\n",
    "\n",
    "                if debug:\n",
    "                    print ('  NEXT, mine, type(y)  ', type(y))\n",
    "                    print ('  NEXT, mine y        ', y)\n",
    "\n",
    "                data = Data(x=x, pos=posn_torch, edge_index=edge_index,\n",
    "                            edge_attr=edge_attr, y=y)\n",
    "\n",
    "                data_list.append(data)\n",
    "\n",
    "\n",
    "        else:\n",
    "                \n",
    "            print ('  Use NEXT100 simulation')       \n",
    "            ev = Fetch_NEXT100_events(nev= self.nev, n_points=self.n_points, dist_cut=self.dist_cut, n_bckg_files=self.n_bckg_files, det = self.det, debug=False)\n",
    "        #ev = NEXT100_data(n_ev, n_points=9999, dist_cut=1.0)\n",
    "\n",
    "            print ('NEXT100.process number of events read :', len(ev))\n",
    "\n",
    "            for iev in range(len(ev)):\n",
    "\n",
    "                print ('   event  ',iev,'   ',len(ev[iev]))\n",
    "                print ('   event type ',      type(ev[iev]))\n",
    "\n",
    "                #    energy cut\n",
    "                e_cut = 2.4\n",
    "                energy = 0.0\n",
    "\n",
    "                for nodes in ev[iev]:\n",
    "\n",
    "                    targ, posn, feats, edge_ind, edge_val, n_nodes = nodes\n",
    "\n",
    "                    for nn in range(n_nodes):\n",
    "                        energy += feats[nn][0]\n",
    "\n",
    "\n",
    "                print ('  energy = ',energy)\n",
    "                if energy < e_cut: continue\n",
    "\n",
    "\n",
    "                for nodes in ev[iev]:\n",
    "                    #print ('  node  ',nodes)\n",
    "                    targ, posn, feats, edge_ind, edge_val, n_nodes = nodes\n",
    "                    #print ('  targ ', targ, ' n_nodes ', n_nodes)\n",
    "\n",
    "\n",
    "\n",
    "                    N = n_nodes\n",
    "                    posn = posn.transpose()\n",
    "\n",
    "\n",
    "\n",
    "                    row = []\n",
    "                    col = []\n",
    "                    link_att   = torch.Tensor([1,0,0,0])\n",
    "                    stack = []\n",
    "                    for iii in range(N):\n",
    "                        for jjj in range(N):\n",
    "                            if iii == jjj: continue\n",
    "\n",
    "                            if (iii,jjj) in edge_ind:\n",
    "                                ind = edge_ind.index((iii,jjj))\n",
    "                                link_att   = torch.Tensor([edge_val[ind]])\n",
    "                            else:\n",
    "                                link_att   = torch.Tensor([0])    \n",
    "\n",
    "                            row.append(iii)\n",
    "                            col.append(jjj)\n",
    "                            stack.append(link_att)\n",
    "\n",
    "                    row = torch.tensor(row, dtype=torch.long)\n",
    "                    col = torch.tensor(col, dtype=torch.long)\n",
    "                    edge_index = torch.stack([row, col], dim=0)\n",
    "                    edge_attr = torch.stack(stack, dim=0)\n",
    "\n",
    "                    posn_torch = torch.tensor(posn, dtype=torch.float)\n",
    "                    if debug: print ('  node positions ', posn_torch)\n",
    "\n",
    "                    x = torch.Tensor(feats)\n",
    "                    y = torch.Tensor([[targ,0.]])\n",
    "\n",
    "                    if debug:\n",
    "                        print ('  NEXT, mine, type(y)  ', type(y))\n",
    "                        print ('  NEXT, mine y        ', y)\n",
    "\n",
    "                    data = Data(x=x,  pos=posn_torch, edge_index=edge_index,\n",
    "                                edge_attr=edge_attr, y=y)\n",
    "\n",
    "                data_list.append(data)\n",
    "\n",
    "\n",
    "        print ('   processed path  ', self.processed_paths[0])\n",
    "        torch.save(self.collate(data_list), self.processed_paths[0])"
   ]
  },
  {
   "cell_type": "code",
   "execution_count": 8,
   "metadata": {
    "cellView": "form",
    "id": "voXIXbkVOeZm"
   },
   "outputs": [],
   "source": [
    "#@title [RUN] Set random seed for deterministic results\n",
    "\n",
    "def seed(seed=0):\n",
    "    random.seed(seed)\n",
    "    np.random.seed(seed)\n",
    "    torch.manual_seed(seed)\n",
    "    torch.cuda.manual_seed(seed)\n",
    "    torch.cuda.manual_seed_all(seed)\n",
    "    torch.backends.cudnn.deterministic = True\n",
    "    torch.backends.cudnn.benchmark = False\n",
    "\n",
    "seed(0)"
   ]
  },
  {
   "cell_type": "code",
   "execution_count": 9,
   "metadata": {
    "cellView": "form",
    "id": "rFNre1NLdMvT"
   },
   "outputs": [],
   "source": [
    "\n",
    "\n",
    "class SetTarget_NEXT(object):\n",
    "    \"\"\"\n",
    "    This transform mofifies the labels vector per data sample to only keep \n",
    "    the label for a specific target (there are 19 targets in QM9).\n",
    "\n",
    "    Note: for this practical, we have hardcoded the target to be target #0,\n",
    "    i.e. the electric dipole moment of a drug-like molecule.\n",
    "    (https://en.wikipedia.org/wiki/Electric_dipole_moment)\n",
    "    \"\"\"\n",
    "    def __call__(self, data):\n",
    "        target = 0 # we hardcoded choice of target  \n",
    "        data.y = data.y[:, target]\n",
    "        return data\n"
   ]
  },
  {
   "cell_type": "code",
   "execution_count": 10,
   "metadata": {
    "id": "gY7foToFoo8Q"
   },
   "outputs": [],
   "source": [
    "# For storing experimental results over the course of the practical\n",
    "RESULTS = {}\n",
    "DF_RESULTS = pd.DataFrame(columns=[\"Test MAE\", \"Val MAE\", \"Epoch\", \"Model\"])"
   ]
  },
  {
   "cell_type": "markdown",
   "metadata": {},
   "source": [
    "#### fetch the data\n"
   ]
  },
  {
   "cell_type": "code",
   "execution_count": 11,
   "metadata": {
    "id": "Ptep7GJJR8jJ",
    "scrolled": true
   },
   "outputs": [
    {
     "name": "stdout",
     "output_type": "stream",
     "text": [
      "  load data \n",
      "PyG version 2.5.3\n",
      " ========   class NEXT_100 initialization    ============\n",
      "   NEXT100, root   ./NEXT100_data/mc_josh\n",
      " detector                          mc_josh\n",
      " number of background data files   1\n",
      " number of events                  99\n",
      " number of points                  999999\n",
      " proximity cut                     1.0\n",
      "   Not intended to download, check!!!\n",
      "  processed_path                   NEXT100_data/mc_josh/processed/data_v3.pt\n",
      "data type                          <class 'torch_geometric.data.data.Data'>\n",
      "slices type                        <class 'dict'>\n",
      "==========================================================\n"
     ]
    },
    {
     "name": "stderr",
     "output_type": "stream",
     "text": [
      "/Users/para/anaconda3/envs/graph/lib/python3.9/site-packages/torch_geometric/data/in_memory_dataset.py:300: UserWarning: It is not recommended to directly access the internal storage format `data` of an 'InMemoryDataset'. If you are absolutely certain what you are doing, access the internal storage via `InMemoryDataset._data` instead to suppress this warning. Alternatively, you can access stacked individual attributes of every graph via `dataset.{attr_name}`.\n",
      "  warnings.warn(msg)\n"
     ]
    }
   ],
   "source": [
    "if 'IS_GRADESCOPE_ENV' not in os.environ:\n",
    "    print ('  load data ')\n",
    "\n",
    "    target = 0\n",
    "    print(\"PyG version {}\".format(torch_geometric.__version__))\n",
    "    # Transforms which are applied during data loading:\n",
    "    # (1) Fully connect the graphs, (2) Select the target/label\n",
    "    \n",
    "    transform_NEXT  = T.Compose([SetTarget_NEXT()])\n",
    "\n",
    "    path_N = './NEXT_data'\n",
    "    # dataset_N = NEXT_ev(path_N, transform=transform_NEXT)\n",
    "    # path_N100 = './NEXT100_data'\n",
    "    # dataset_N = NEXT_100(path_N100,transform=transform_NEXT)\n",
    "    \n",
    "    path_N100 = './NEXT100_data/mc_josh'\n",
    "    det       = 'mc_josh'\n",
    "    n_bck_f   = 1\n",
    "    nev       = 99\n",
    "    npoints   = 999999\n",
    "    dataset_N = NEXT_100(path_N100, det, n_bck_f, nev, npoints, transform=transform_NEXT)\n",
    "    # dataset_q = dataset\n",
    "    dataset   = dataset_N    \n",
    "    \n",
    "\n",
    "    # Normalize targets per data sample to mean = 0 and std = 1.\n",
    "    mean = dataset.data.y.mean(dim=0, keepdim=True)\n",
    "    std  = dataset.data.y.std(dim=0, keepdim=True)\n",
    "    dataset.data.y = (dataset.data.y - mean) / std\n",
    "    mean, std = mean[:, target].item(), std[:, target].item()\n"
   ]
  },
  {
   "cell_type": "code",
   "execution_count": null,
   "metadata": {},
   "outputs": [],
   "source": [
    "#    test reading of a scpecific file\n",
    "fn = '/Users/para/NEXT/NEXT_GNN/double_beta/data/single_electron/mctruehits_trk_19869.dat'\n",
    "table = np.loadtxt(fn)\n",
    "print ('success')\n",
    "table = read_ev(fn)\n",
    "print (table)"
   ]
  },
  {
   "cell_type": "code",
   "execution_count": 15,
   "metadata": {},
   "outputs": [
    {
     "name": "stdout",
     "output_type": "stream",
     "text": [
      "  number of events  99\n",
      "Data(x=[373, 5], edge_index=[2, 138756], edge_attr=[138756, 1], y=[1], pos=[373, 3])\n",
      "tensor([[6.2289e-03, 1.2000e+01, 8.9317e-03, 1.8710e-01, 3.1280e-01],\n",
      "        [9.6034e-03, 1.2000e+01, 8.6505e-03, 1.4703e-01, 3.1259e-01],\n",
      "        [5.6479e-03, 1.1000e+01, 8.9475e-03, 1.0341e-01, 2.5811e-01],\n",
      "        ...,\n",
      "        [5.4042e-03, 1.2000e+01, 9.7458e-03, 1.1324e-01, 2.8702e-01],\n",
      "        [7.3457e-03, 1.2000e+01, 9.5840e-03, 1.3796e-01, 2.8895e-01],\n",
      "        [8.3324e-03, 1.2000e+01, 9.5018e-03, 1.3527e-01, 2.8783e-01]])\n",
      "tensor([[ 19.2284,  18.9509, -11.8322],\n",
      "        [ 19.2319,  18.9494, -11.8374],\n",
      "        [ 19.2430,  18.9267, -11.8449],\n",
      "        ...,\n",
      "        [-21.0378, -59.7409, -12.4786],\n",
      "        [-21.0195, -59.7500, -12.4626],\n",
      "        [-21.0277, -59.7449, -12.4620]])\n"
     ]
    }
   ],
   "source": [
    "deb_ev = 2\n",
    "print ('  number of events ',len(dataset))\n",
    "ev = dataset[deb_ev]\n",
    "print (ev)\n",
    "print (ev.x)\n",
    "print (ev.pos)"
   ]
  },
  {
   "cell_type": "code",
   "execution_count": 16,
   "metadata": {
    "id": "RFaBnrDoS2K-"
   },
   "outputs": [
    {
     "name": "stdout",
     "output_type": "stream",
     "text": [
      "Total number of samples: 99.\n",
      "Created dataset splits with 49 training, 24 validation, 24 test samples.\n",
      "  device used  cpu\n"
     ]
    }
   ],
   "source": [
    "print(f\"Total number of samples: {len(dataset)}.\")\n",
    "\n",
    "# Split datasets (in case of using the full dataset)\n",
    "# test_dataset = dataset[:10000]\n",
    "# val_dataset = dataset[10000:20000]\n",
    "# train_dataset = dataset[20000:]\n",
    "\n",
    "# Split datasets (our 3K subset)\n",
    "\n",
    "tot_stat = len(dataset)\n",
    "\n",
    "train_size = int(tot_stat/2)\n",
    "val_size   = int(tot_stat/4)\n",
    "test_size  = int(tot_stat/4)\n",
    "train_dataset = dataset[:train_size]\n",
    "val_dataset = dataset[train_size:train_size+val_size]\n",
    "test_dataset = dataset[train_size+val_size:train_size+val_size+test_size]\n",
    "print(f\"Created dataset splits with {len(train_dataset)} training, {len(val_dataset)} validation, {len(test_dataset)} test samples.\")\n",
    "\n",
    "# Create dataloaders with batch size = 32\n",
    "batch_size = 12\n",
    "train_loader = DataLoader(train_dataset, batch_size=batch_size, shuffle=True)\n",
    "val_loader = DataLoader(val_dataset, batch_size=batch_size, shuffle=False)\n",
    "test_loader = DataLoader(test_dataset, batch_size=batch_size, shuffle=False)\n",
    "\n",
    "device = torch.device('cuda' if torch.cuda.is_available() else 'cpu')\n",
    "print ('  device used ',device)\n",
    "# for data in train_loader:\n",
    "#     data = data.to(device)\n",
    "#     print (data)"
   ]
  },
  {
   "cell_type": "code",
   "execution_count": 17,
   "metadata": {
    "id": "wyEVg0zhMOTn"
   },
   "outputs": [
    {
     "name": "stdout",
     "output_type": "stream",
     "text": [
      "Let us print all the attributes (along with their shapes) that our PyG  graph contains:\n",
      "Data(x=[367, 5], edge_index=[2, 134322], edge_attr=[134322, 1], y=[1], pos=[367, 3])\n"
     ]
    }
   ],
   "source": [
    "data = train_dataset[0] # one data sample, \n",
    "print(\"Let us print all the attributes (along with their shapes) that our PyG  graph contains:\")\n",
    "print(data)"
   ]
  },
  {
   "cell_type": "code",
   "execution_count": 18,
   "metadata": {},
   "outputs": [],
   "source": [
    "def data_an(loader):\n",
    "    \n",
    "    device = torch.device('cuda' if torch.cuda.is_available() else 'cpu')\n",
    "\n",
    "    y_data = []\n",
    "    y_mod  = []\n",
    "\n",
    "    y_sig = []\n",
    "    y_bck = []\n",
    "\n",
    "    i = 0 \n",
    "    for data in loader:\n",
    "        if i >0 : continue\n",
    "        i += 1\n",
    "        \n",
    "        print (data)\n",
    "#         data = data.to(device)\n",
    "#         with torch.no_grad():\n",
    "#             y_pred = model(data)\n",
    "\n",
    "#             for x,y in zip(y_pred, data.y):\n",
    "              \n",
    "#                 y_data.append(y.item())\n",
    "#                 y_mod.append(x.item())\n",
    "#                 if y.item() > 0 :\n",
    "#                     y_bck.append(x.item())\n",
    "#                 else:\n",
    "#                     y_sig.append(x.item())\n",
    "\n",
    "\n",
    "\n",
    "#     sns.histplot(data=y_sig, color=\"blue\")\n",
    "#     sns.histplot(data=y_bck , color=\"red\")\n",
    "#     plt.legend()\n",
    "#     plt.show()\n",
    "            # Mean Absolute Error using std (computed when preparing data)\n",
    "            # error += (y_pred * std - data.y * std).abs().sum().item()\n",
    "\n",
    "def data_an_dataset(ds):\n",
    "    n_ev = len(ds)\n",
    "    print ('  NUmber of events  ', n_ev)\n",
    "    print (ds[0])\n",
    "    print ('   number of data points ',len(ds[0].x))\n",
    "\n",
    "#     for evno in range(2):\n",
    "#         for nn in range(3):\n",
    "#             print ('  ev ', evno, '  node ',nn, 'features' ,ds[evno].x[nn])\n",
    "#     print (ds[0].pos[0])\n",
    "    \n",
    "#     np = 2\n",
    "#     for nn in range(np):\n",
    "#         print ('ev 0, node ',nn,'  energy ',ds[0].x[nn][0])\n",
    "\n",
    "    selected_ev = []\n",
    "    \n",
    "    for iev in range(n_ev):\n",
    "        np = len(ds[iev].x)\n",
    "        energy =0\n",
    "        for ip in range(np):\n",
    "            energy += ds[iev].x[ip][0]\n",
    "        print ('  event ',iev,' number of points ',np, ' energy ',energy)"
   ]
  },
  {
   "cell_type": "code",
   "execution_count": 19,
   "metadata": {},
   "outputs": [
    {
     "name": "stdout",
     "output_type": "stream",
     "text": [
      "  NUmber of events   99\n",
      "Data(x=[367, 5], edge_index=[2, 134322], edge_attr=[134322, 1], y=[1], pos=[367, 3])\n",
      "   number of data points  367\n",
      "  event  0  number of points  367  energy  tensor(2.0778)\n",
      "  event  1  number of points  343  energy  tensor(2.1136)\n",
      "  event  2  number of points  373  energy  tensor(2.0765)\n",
      "  event  3  number of points  263  energy  tensor(1.4933)\n",
      "  event  4  number of points  347  energy  tensor(2.1322)\n",
      "  event  5  number of points  334  energy  tensor(2.0179)\n",
      "  event  6  number of points  349  energy  tensor(1.9087)\n",
      "  event  7  number of points  361  energy  tensor(2.0528)\n",
      "  event  8  number of points  290  energy  tensor(1.5870)\n",
      "  event  9  number of points  264  energy  tensor(1.5507)\n",
      "  event  10  number of points  328  energy  tensor(1.9030)\n",
      "  event  11  number of points  296  energy  tensor(1.6769)\n",
      "  event  12  number of points  296  energy  tensor(1.6721)\n",
      "  event  13  number of points  377  energy  tensor(2.0810)\n",
      "  event  14  number of points  345  energy  tensor(1.9671)\n",
      "  event  15  number of points  361  energy  tensor(2.2312)\n",
      "  event  16  number of points  336  energy  tensor(2.0125)\n",
      "  event  17  number of points  313  energy  tensor(1.9529)\n",
      "  event  18  number of points  263  energy  tensor(1.4586)\n",
      "  event  19  number of points  329  energy  tensor(1.9463)\n",
      "  event  20  number of points  310  energy  tensor(1.7078)\n",
      "  event  21  number of points  401  energy  tensor(2.3689)\n",
      "  event  22  number of points  333  energy  tensor(1.8317)\n",
      "  event  23  number of points  275  energy  tensor(1.6100)\n",
      "  event  24  number of points  342  energy  tensor(1.9103)\n",
      "  event  25  number of points  405  energy  tensor(2.3180)\n",
      "  event  26  number of points  315  energy  tensor(1.9734)\n",
      "  event  27  number of points  275  energy  tensor(1.4744)\n",
      "  event  28  number of points  316  energy  tensor(1.8196)\n",
      "  event  29  number of points  382  energy  tensor(2.1499)\n",
      "  event  30  number of points  297  energy  tensor(1.8616)\n",
      "  event  31  number of points  365  energy  tensor(2.1518)\n",
      "  event  32  number of points  358  energy  tensor(2.0924)\n",
      "  event  33  number of points  403  energy  tensor(2.2200)\n",
      "  event  34  number of points  297  energy  tensor(1.6396)\n",
      "  event  35  number of points  321  energy  tensor(1.9210)\n",
      "  event  36  number of points  266  energy  tensor(1.5629)\n",
      "  event  37  number of points  363  energy  tensor(2.1873)\n",
      "  event  38  number of points  337  energy  tensor(1.8059)\n",
      "  event  39  number of points  386  energy  tensor(2.0871)\n",
      "  event  40  number of points  320  energy  tensor(1.9523)\n",
      "  event  41  number of points  330  energy  tensor(1.9748)\n",
      "  event  42  number of points  350  energy  tensor(1.9151)\n",
      "  event  43  number of points  314  energy  tensor(1.9298)\n",
      "  event  44  number of points  314  energy  tensor(1.9376)\n",
      "  event  45  number of points  427  energy  tensor(2.3142)\n",
      "  event  46  number of points  260  energy  tensor(1.4800)\n",
      "  event  47  number of points  409  energy  tensor(2.3728)\n",
      "  event  48  number of points  342  energy  tensor(1.8615)\n",
      "  event  49  number of points  288  energy  tensor(1.4798)\n",
      "  event  50  number of points  371  energy  tensor(2.0819)\n",
      "  event  51  number of points  353  energy  tensor(2.2007)\n",
      "  event  52  number of points  336  energy  tensor(2.1924)\n",
      "  event  53  number of points  312  energy  tensor(2.1315)\n",
      "  event  54  number of points  384  energy  tensor(2.2371)\n",
      "  event  55  number of points  382  energy  tensor(2.1230)\n",
      "  event  56  number of points  300  energy  tensor(1.9322)\n",
      "  event  57  number of points  379  energy  tensor(2.0264)\n",
      "  event  58  number of points  347  energy  tensor(1.8715)\n",
      "  event  59  number of points  213  energy  tensor(1.1561)\n",
      "  event  60  number of points  410  energy  tensor(2.2025)\n",
      "  event  61  number of points  406  energy  tensor(2.3036)\n",
      "  event  62  number of points  433  energy  tensor(2.1858)\n",
      "  event  63  number of points  391  energy  tensor(2.3858)\n",
      "  event  64  number of points  366  energy  tensor(2.0755)\n",
      "  event  65  number of points  362  energy  tensor(2.0711)\n",
      "  event  66  number of points  172  energy  tensor(0.9934)\n",
      "  event  67  number of points  432  energy  tensor(2.3907)\n",
      "  event  68  number of points  255  energy  tensor(1.5540)\n",
      "  event  69  number of points  385  energy  tensor(2.1809)\n",
      "  event  70  number of points  454  energy  tensor(2.4089)\n",
      "  event  71  number of points  263  energy  tensor(1.4712)\n",
      "  event  72  number of points  335  energy  tensor(2.0338)\n",
      "  event  73  number of points  323  energy  tensor(1.9238)\n",
      "  event  74  number of points  220  energy  tensor(1.3006)\n",
      "  event  75  number of points  353  energy  tensor(1.9568)\n",
      "  event  76  number of points  344  energy  tensor(1.9087)\n",
      "  event  77  number of points  367  energy  tensor(2.1076)\n",
      "  event  78  number of points  404  energy  tensor(2.1836)\n",
      "  event  79  number of points  368  energy  tensor(2.0211)\n",
      "  event  80  number of points  354  energy  tensor(2.0703)\n",
      "  event  81  number of points  349  energy  tensor(2.1304)\n",
      "  event  82  number of points  416  energy  tensor(2.3720)\n",
      "  event  83  number of points  366  energy  tensor(2.2336)\n",
      "  event  84  number of points  395  energy  tensor(2.4014)\n",
      "  event  85  number of points  367  energy  tensor(2.1395)\n",
      "  event  86  number of points  209  energy  tensor(1.2706)\n",
      "  event  87  number of points  275  energy  tensor(1.6329)\n",
      "  event  88  number of points  372  energy  tensor(2.1504)\n",
      "  event  89  number of points  369  energy  tensor(2.2131)\n",
      "  event  90  number of points  363  energy  tensor(2.0336)\n",
      "  event  91  number of points  349  energy  tensor(1.9040)\n",
      "  event  92  number of points  461  energy  tensor(2.3307)\n",
      "  event  93  number of points  400  energy  tensor(2.2761)\n",
      "  event  94  number of points  348  energy  tensor(1.8023)\n",
      "  event  95  number of points  345  energy  tensor(1.9554)\n",
      "  event  96  number of points  273  energy  tensor(1.6347)\n",
      "  event  97  number of points  369  energy  tensor(1.9411)\n",
      "  event  98  number of points  268  energy  tensor(1.6358)\n",
      "<class '__main__.NEXT_100'>\n"
     ]
    }
   ],
   "source": [
    "data_an_dataset(dataset)\n",
    "print (type(dataset))"
   ]
  },
  {
   "cell_type": "code",
   "execution_count": 20,
   "metadata": {
    "id": "wO5GskvZnZ1j"
   },
   "outputs": [],
   "source": [
    "class MPNNLayer(MessagePassing):\n",
    "    def __init__(self, emb_dim=64, edge_dim=4, aggr='add'):\n",
    "        \"\"\"Message Passing Neural Network Layer\n",
    "\n",
    "        Args:\n",
    "            emb_dim: (int) - hidden dimension `d`\n",
    "            edge_dim: (int) - edge feature dimension `d_e`\n",
    "            aggr: (str) - aggregation function `\\oplus` (sum/mean/max)\n",
    "        \"\"\"\n",
    "        # Set the aggregation function\n",
    "        super().__init__(aggr=aggr)\n",
    "\n",
    "        self.emb_dim = emb_dim\n",
    "        self.edge_dim = edge_dim\n",
    "\n",
    "        # MLP `\\psi` for computing messages `m_ij`\n",
    "        # Implemented as a stack of Linear->BN->ReLU->Linear->BN->ReLU\n",
    "        # dims: (2d + d_e) -> d\n",
    "        self.mlp_msg = Sequential(\n",
    "            Linear(2*emb_dim + edge_dim, emb_dim), BatchNorm1d(emb_dim), ReLU(),\n",
    "            Linear(emb_dim, emb_dim), BatchNorm1d(emb_dim), ReLU()\n",
    "          )\n",
    "        \n",
    "        # MLP `\\phi` for computing updated node features `h_i^{l+1}`\n",
    "        # Implemented as a stack of Linear->BN->ReLU->Linear->BN->ReLU\n",
    "        # dims: 2d -> d\n",
    "        self.mlp_upd = Sequential(\n",
    "            Linear(2*emb_dim, emb_dim), BatchNorm1d(emb_dim), ReLU(), \n",
    "            Linear(emb_dim, emb_dim), BatchNorm1d(emb_dim), ReLU()\n",
    "          )\n",
    "\n",
    "    def forward(self, h, edge_index, edge_attr):\n",
    "        \"\"\"\n",
    "        The forward pass updates node features `h` via one round of message passing.\n",
    "\n",
    "        As our MPNNLayer class inherits from the PyG MessagePassing parent class,\n",
    "        we simply need to call the `propagate()` function which starts the \n",
    "        message passing procedure: `message()` -> `aggregate()` -> `update()`.\n",
    "        \n",
    "        The MessagePassing class handles most of the logic for the implementation.\n",
    "        To build custom GNNs, we only need to define our own `message()`, \n",
    "        `aggregate()`, and `update()` functions (defined subsequently).\n",
    "\n",
    "        Args:\n",
    "            h: (n, d) - initial node features\n",
    "            edge_index: (e, 2) - pairs of edges (i, j)\n",
    "            edge_attr: (e, d_e) - edge features\n",
    "\n",
    "        Returns:\n",
    "            out: (n, d) - updated node features\n",
    "        \"\"\"\n",
    "        out = self.propagate(edge_index, h=h, edge_attr=edge_attr)\n",
    "        return out\n",
    "\n",
    "    def message(self, h_i, h_j, edge_attr):\n",
    "        \"\"\"Step (1) Message\n",
    "\n",
    "        The `message()` function constructs messages from source nodes j \n",
    "        to destination nodes i for each edge (i, j) in `edge_index`.\n",
    "\n",
    "        The arguments can be a bit tricky to understand: `message()` can take \n",
    "        any arguments that were initially passed to `propagate`. Additionally, \n",
    "        we can differentiate destination nodes and source nodes by appending \n",
    "        `_i` or `_j` to the variable name, e.g. for the node features `h`, we\n",
    "        can use `h_i` and `h_j`. \n",
    "        \n",
    "        This part is critical to understand as the `message()` function\n",
    "        constructs messages for each edge in the graph. The indexing of the\n",
    "        original node features `h` (or other node variables) is handled under\n",
    "        the hood by PyG.\n",
    "\n",
    "        Args:\n",
    "            h_i: (e, d) - destination node features\n",
    "            h_j: (e, d) - source node features\n",
    "            edge_attr: (e, d_e) - edge features\n",
    "        \n",
    "        Returns:\n",
    "            msg: (e, d) - messages `m_ij` passed through MLP `\\psi`\n",
    "        \"\"\"\n",
    "        msg = torch.cat([h_i, h_j, edge_attr], dim=-1)\n",
    "        return self.mlp_msg(msg)\n",
    "    \n",
    "    def aggregate(self, inputs, index):\n",
    "        \"\"\"Step (2) Aggregate\n",
    "\n",
    "        The `aggregate` function aggregates the messages from neighboring nodes,\n",
    "        according to the chosen aggregation function ('sum' by default).\n",
    "\n",
    "        Args:\n",
    "            inputs: (e, d) - messages `m_ij` from destination to source nodes\n",
    "            index: (e, 1) - list of source nodes for each edge/message in `input`\n",
    "\n",
    "        Returns:\n",
    "            aggr_out: (n, d) - aggregated messages `m_i`\n",
    "        \"\"\"\n",
    "        return scatter(inputs, index, dim=self.node_dim, reduce=self.aggr)\n",
    "    \n",
    "    def update(self, aggr_out, h):\n",
    "        \"\"\"\n",
    "        Step (3) Update\n",
    "\n",
    "        The `update()` function computes the final node features by combining the \n",
    "        aggregated messages with the initial node features.\n",
    "\n",
    "        `update()` takes the first argument `aggr_out`, the result of `aggregate()`, \n",
    "        as well as any optional arguments that were initially passed to \n",
    "        `propagate()`. E.g. in this case, we additionally pass `h`.\n",
    "\n",
    "        Args:\n",
    "            aggr_out: (n, d) - aggregated messages `m_i`\n",
    "            h: (n, d) - initial node features\n",
    "\n",
    "        Returns:\n",
    "            upd_out: (n, d) - updated node features passed through MLP `\\phi`\n",
    "        \"\"\"\n",
    "        upd_out = torch.cat([h, aggr_out], dim=-1)\n",
    "        return self.mlp_upd(upd_out)\n",
    "\n",
    "    def __repr__(self) -> str:\n",
    "        return (f'{self.__class__.__name__}(emb_dim={self.emb_dim}, aggr={self.aggr})')"
   ]
  },
  {
   "cell_type": "markdown",
   "metadata": {
    "id": "OPB24QlmU_46"
   },
   "source": [
    "Great! We have defined a **Message Passing layer** following the equation we had introduced previously. Let us use this layer to code up the full **MPNN graph property prediction model**. This model will take as input graphs, process them via multiple MPNN layers, and predict a single property for each of them."
   ]
  },
  {
   "cell_type": "code",
   "execution_count": 21,
   "metadata": {
    "id": "Q0vqS1NAU_ZN"
   },
   "outputs": [],
   "source": [
    "class MPNNModel(Module):\n",
    "    def __init__(self, num_layers=4, emb_dim=64, in_dim=11, edge_dim=4, out_dim=1):\n",
    "        \"\"\"Message Passing Neural Network model for graph property prediction\n",
    "\n",
    "        Args:\n",
    "            num_layers: (int) - number of message passing layers `L`\n",
    "            emb_dim: (int) - hidden dimension `d`\n",
    "            in_dim: (int) - initial node feature dimension `d_n`\n",
    "            edge_dim: (int) - edge feature dimension `d_e`\n",
    "            out_dim: (int) - output dimension (fixed to 1)\n",
    "        \"\"\"\n",
    "        super().__init__()\n",
    "        \n",
    "        # Linear projection for initial node features\n",
    "        # dim: d_n -> d\n",
    "        self.lin_in = Linear(in_dim, emb_dim)\n",
    "        \n",
    "        # Stack of MPNN layers\n",
    "        self.convs = torch.nn.ModuleList()\n",
    "        for layer in range(num_layers):\n",
    "            self.convs.append(MPNNLayer(emb_dim, edge_dim, aggr='add'))\n",
    "        \n",
    "        # Global pooling/readout function `R` (mean pooling)\n",
    "        # PyG handles the underlying logic via `global_mean_pool()`\n",
    "        self.pool = global_mean_pool\n",
    "\n",
    "        # Linear prediction head\n",
    "        # dim: d -> out_dim\n",
    "        self.lin_pred = Linear(emb_dim, out_dim)\n",
    "        \n",
    "    def forward(self, data):\n",
    "        \"\"\"\n",
    "        Args:\n",
    "            data: (PyG.Data) - batch of PyG graphs\n",
    "\n",
    "        Returns: \n",
    "            out: (batch_size, out_dim) - prediction for each graph\n",
    "        \"\"\"\n",
    "        h = self.lin_in(data.x) # (n, d_n) -> (n, d)\n",
    "        \n",
    "        for conv in self.convs:\n",
    "            h = h + conv(h, data.edge_index, data.edge_attr) # (n, d) -> (n, d)\n",
    "            # Note that we add a residual connection after each MPNN layer\n",
    "\n",
    "        h_graph = self.pool(h, data.batch) # (n, d) -> (batch_size, d)\n",
    "\n",
    "        out = self.lin_pred(h_graph) # (batch_size, d) -> (batch_size, 1)\n",
    "\n",
    "        return out.view(-1)"
   ]
  },
  {
   "cell_type": "code",
   "execution_count": 22,
   "metadata": {
    "id": "vXuzZIqpZVqS"
   },
   "outputs": [],
   "source": [
    "def permute_graph(data, perm):\n",
    "    \"\"\"Helper function for permuting PyG Data object attributes consistently.\n",
    "    \"\"\"\n",
    "    # Permute the node attribute ordering\n",
    "    data.x = data.x[perm]\n",
    "    data.pos = data.pos[perm]\n",
    "    #   no atomixc number relevant, no data.z member\n",
    "    #data.z = data.z[perm]\n",
    "    data.batch = data.batch[perm]\n",
    "\n",
    "    # Permute the edge index\n",
    "    adj = to_dense_adj(data.edge_index)\n",
    "    adj = adj[:, perm, :]\n",
    "    adj = adj[:, :, perm]\n",
    "    data.edge_index = dense_to_sparse(adj)[0]\n",
    "\n",
    "    # Note: \n",
    "    # (1) While we originally defined the permutation matrix P as only having \n",
    "    #     entries 0 and 1, its implementation via `perm` uses indexing into \n",
    "    #     torch tensors, instead. \n",
    "    # (2) It is cumbersome to permute the edge_attr, so we set it to constant \n",
    "    #     dummy values. For any experiments beyond unit testing, all GNN models \n",
    "    #     use the original edge_attr.\n",
    "\n",
    "    return data\n",
    "\n",
    "def permutation_invariance_unit_test(module, dataloader):\n",
    "    \"\"\"Unit test for checking whether a module (GNN model) is \n",
    "    permutation invariant.\n",
    "    \"\"\"\n",
    "    it = iter(dataloader)\n",
    "    data = next(it)\n",
    "\n",
    "    # Set edge_attr to dummy values (for simplicity)\n",
    "    data.edge_attr = torch.zeros(data.edge_attr.shape)\n",
    "\n",
    "    # Forward pass on original example\n",
    "    out_1 = module(data)\n",
    "\n",
    "    # Create random permutation\n",
    "    perm = torch.randperm(data.x.shape[0])\n",
    "    data = permute_graph(data, perm)\n",
    "\n",
    "    # Forward pass on permuted example\n",
    "    out_2 = module(data)\n",
    "\n",
    "    # Check whether output varies after applying transformations\n",
    "    return torch.allclose(out_1, out_2, atol=1e-04)\n",
    "\n",
    "\n",
    "def permutation_equivariance_unit_test(module, dataloader):\n",
    "    \"\"\"Unit test for checking whether a module (GNN layer) is \n",
    "    permutation equivariant.\n",
    "    \"\"\"\n",
    "    it = iter(dataloader)\n",
    "    data = next(it)\n",
    "\n",
    "    # Set edge_attr to dummy values (for simplicity)\n",
    "    data.edge_attr = torch.zeros(data.edge_attr.shape)\n",
    "\n",
    "    # Forward pass on original example\n",
    "    out_1 = module(data.x, data.edge_index, data.edge_attr)\n",
    "\n",
    "    # Create random permutation\n",
    "    perm = torch.randperm(data.x.shape[0])\n",
    "    data = permute_graph(data, perm)\n",
    "\n",
    "    # Forward pass on permuted example\n",
    "    out_2 = module(data.x, data.edge_index, data.edge_attr)\n",
    "\n",
    "    # Check whether output varies after applying transformations\n",
    "    return torch.allclose(out_1[perm], out_2, atol=1e-04)"
   ]
  },
  {
   "cell_type": "markdown",
   "metadata": {
    "id": "kj_EER0Mg5YQ"
   },
   "source": [
    "Now that we have defined the unit tests for permutation invariance (for the full MPNN model) and permutation equivariance (for the MPNN layer), let us perform the sanity check:"
   ]
  },
  {
   "cell_type": "code",
   "execution_count": 23,
   "metadata": {
    "id": "sNAxOxMQkDwf"
   },
   "outputs": [
    {
     "name": "stdout",
     "output_type": "stream",
     "text": [
      "Is MPNNModel permutation invariant? --> True!\n",
      "Is MPNNLayer permutation equivariant? --> True!\n"
     ]
    }
   ],
   "source": [
    "# Instantiate temporary model, layer, and dataloader for unit testing\n",
    "layer = MPNNLayer(emb_dim=5, edge_dim=1)\n",
    "model = MPNNModel(num_layers=4, emb_dim=64, in_dim=5, edge_dim=1, out_dim=1)\n",
    "dataloader = DataLoader(train_dataset, batch_size=1, shuffle=True)\n",
    "\n",
    "# Permutation invariance unit test for MPNN model\n",
    "print(f\"Is {type(model).__name__} permutation invariant? --> {permutation_invariance_unit_test(model, dataloader)}!\")\n",
    "\n",
    "# Permutation equivariance unit for MPNN layer\n",
    "print(f\"Is {type(layer).__name__} permutation equivariant? --> {permutation_equivariance_unit_test(layer, dataloader)}!\")"
   ]
  },
  {
   "cell_type": "markdown",
   "metadata": {
    "id": "g-cmASemh0wA"
   },
   "source": [
    "## Training and Evaluating Models\n",
    "\n",
    "Great! We are finally ready to train and evaluate our model on QM9. We have provided a **basic experiment loop** which takes as input the model and dataloaders, performs training, and returns the final performance on the **validation** and **test set**.\n",
    "\n",
    "We will be training a `MPNNModel` consisting of 4 layers of message passing with a hidden dimension of 64."
   ]
  },
  {
   "cell_type": "code",
   "execution_count": 24,
   "metadata": {
    "cellView": "form",
    "id": "FrYb8xr5iZQM"
   },
   "outputs": [],
   "source": [
    "#@title [RUN] Helper functions for managing experiments, training, and evaluating models.\n",
    "\n",
    "def train(model, train_loader, optimizer, device):\n",
    "    model.train()\n",
    "    loss_all = 0\n",
    "\n",
    "    for data in train_loader:\n",
    "        data = data.to(device)\n",
    "        optimizer.zero_grad()\n",
    "        #print(data)\n",
    "        y_pred = model(data)\n",
    "        loss = F.mse_loss(y_pred, data.y)\n",
    "        loss.backward()\n",
    "        loss_all += loss.item() * data.num_graphs\n",
    "        optimizer.step()\n",
    "    return loss_all / len(train_loader.dataset)\n",
    "\n",
    "def plot_res_1D(model,loader,device):\n",
    "\n",
    "    y_data = []\n",
    "    y_mod  = []\n",
    "\n",
    "    y_sig = []\n",
    "    y_bck = []\n",
    "\n",
    "    for data in loader:\n",
    "        data = data.to(device)\n",
    "        with torch.no_grad():\n",
    "            y_pred = model(data)\n",
    "\n",
    "            for x,y in zip(y_pred, data.y):\n",
    "              \n",
    "                y_data.append(y.item())\n",
    "                y_mod.append(x.item())\n",
    "                if y.item() > 0 :\n",
    "                    y_bck.append(x.item())\n",
    "                else:\n",
    "                    y_sig.append(x.item())\n",
    "\n",
    "\n",
    "\n",
    "    sns.histplot(data=y_sig, color=\"blue\")\n",
    "    sns.histplot(data=y_bck , color=\"red\")\n",
    "    plt.legend()\n",
    "    plt.show()\n",
    "            # Mean Absolute Error using std (computed when preparing data)\n",
    "            # error += (y_pred * std - data.y * std).abs().sum().item()\n",
    "def plot_res(model,loader,device):\n",
    "    \n",
    "    y_data = []\n",
    "    y_mod  = []\n",
    "\n",
    "    for data in loader:\n",
    "        data = data.to(device)\n",
    "        with torch.no_grad():\n",
    "            y_pred = model(data)\n",
    "            #print (len(y_pred))\n",
    "            #print ('   predicted  ', y_pred,'  actual ', data.y)\n",
    "            for x,y in zip(y_pred, data.y):\n",
    "                #print ('     ',x.item(),y.item())\n",
    "                y_data.append(y.item())\n",
    "                y_mod.append(x.item())\n",
    "\n",
    "    plt.scatter(y_mod, y_data)\n",
    "    plt.show()\n",
    "\n",
    "def eval(model, loader, device):\n",
    "    model.eval()\n",
    "    error = 0\n",
    "\n",
    "    for data in loader:\n",
    "        data = data.to(device)\n",
    "        with torch.no_grad():\n",
    "            y_pred = model(data)\n",
    "            # Mean Absolute Error using std (computed when preparing data)\n",
    "            error += (y_pred * std - data.y * std).abs().sum().item()\n",
    "    return error / len(loader.dataset)\n",
    "\n",
    "\n",
    "def run_experiment(model, model_name, train_loader, val_loader, test_loader, n_epochs=100):\n",
    "    \n",
    "    print(f\"Running experiment for {model_name}, training on {len(train_loader.dataset)} samples for {n_epochs} epochs.\")\n",
    "    \n",
    "    device = torch.device('cuda' if torch.cuda.is_available() else 'cpu')\n",
    "    #device = torch.device('mps')\n",
    "    print ('  device used', device)\n",
    "    print(\"\\nModel architecture:\")\n",
    "    print(model)\n",
    "    total_param = 0\n",
    "    for param in model.parameters():\n",
    "        total_param += np.prod(list(param.data.size()))\n",
    "    print(f'Total parameters: {total_param}')\n",
    "    model = model.to(device)\n",
    "\n",
    "    # Adam optimizer with LR 1e-3\n",
    "    optimizer = torch.optim.Adam(model.parameters(), lr=0.001)\n",
    "\n",
    "    # LR scheduler which decays LR when validation metric doesn't improve\n",
    "    scheduler = torch.optim.lr_scheduler.ReduceLROnPlateau(\n",
    "        optimizer, mode='min', factor=0.9, patience=5, min_lr=0.00001)\n",
    "    \n",
    "    print(\"\\nStart training:\")\n",
    "    follow_progress = True\n",
    "    best_val_error = None\n",
    "    perf_per_epoch = [] # Track Test/Val MAE vs. epoch (for plotting)\n",
    "    t = time.time()\n",
    "    for epoch in range(1, n_epochs+1):\n",
    "        # Call LR scheduler at start of each epoch\n",
    "        lr = scheduler.optimizer.param_groups[0]['lr']\n",
    "\n",
    "        # Train model for one epoch, return avg. training loss\n",
    "        loss = train(model, train_loader, optimizer, device)\n",
    "        \n",
    "        # Evaluate model on validation set\n",
    "        val_error = eval(model, val_loader, device)\n",
    "        if follow_progress:\n",
    "            print (f'  epoch  :{epoch:03d}  train set ')\n",
    "            plot_res_1D(model, train_loader, device)\n",
    "            print (f'  epoch  :,{epoch:03d},   validation set ')\n",
    "            plot_res_1D(model, val_loader, device)\n",
    "\n",
    "        if best_val_error is None or val_error <= best_val_error:\n",
    "            # Evaluate model on test set if validation metric improves\n",
    "            test_error = eval(model, test_loader, device)\n",
    "            best_val_error = val_error\n",
    "            if follow_progress:\n",
    "                print (f'  epoch  :,{epoch:03d},   test set ')\n",
    "                plot_res_1D(model, test_loader, device)\n",
    "                   \n",
    "        nrep = 1\n",
    "        if epoch % nrep == 0:\n",
    "            # Print and track stats every nrep epochs\n",
    "            print(f'Epoch: {epoch:03d}, LR: {lr:5f}, Loss: {loss:.7f}, '\n",
    "                  f'Val MAE: {val_error:.7f}, Test MAE: {test_error:.7f}')\n",
    "            print (f'  elapsed time , {(time.time() - t)/60:5f}')\n",
    "        \n",
    "        scheduler.step(val_error)\n",
    "        perf_per_epoch.append((test_error, val_error, epoch, model_name))\n",
    "\n",
    "\n",
    "            \n",
    "    t = time.time() - t\n",
    "    train_time = t/60\n",
    "    print(f\"\\nDone! Training took {train_time:.2f} mins. Best validation MAE: {best_val_error:.7f}, corresponding test MAE: {test_error:.7f}.\")\n",
    "    \n",
    "    return best_val_error, test_error, train_time, perf_per_epoch"
   ]
  },
  {
   "cell_type": "code",
   "execution_count": null,
   "metadata": {
    "id": "JsGM5LWmiZQM",
    "scrolled": true
   },
   "outputs": [
    {
     "name": "stdout",
     "output_type": "stream",
     "text": [
      "   evaluate model   MPNNModel   n_epochs =  100\n",
      "Running experiment for MPNNModel, training on 49 samples for 100 epochs.\n",
      "  device used cpu\n",
      "\n",
      "Model architecture:\n",
      "MPNNModel(\n",
      "  (lin_in): Linear(in_features=5, out_features=64, bias=True)\n",
      "  (convs): ModuleList(\n",
      "    (0-3): 4 x MPNNLayer(emb_dim=64, aggr=add)\n",
      "  )\n",
      "  (lin_pred): Linear(in_features=64, out_features=1, bias=True)\n",
      ")\n",
      "Total parameters: 102081\n",
      "\n",
      "Start training:\n",
      "  epoch  :001  train set \n"
     ]
    },
    {
     "name": "stderr",
     "output_type": "stream",
     "text": [
      "/var/folders/sh/s3sz42dj4qz5yww8714w8x680000gp/T/ipykernel_53392/1810783567.py:44: UserWarning: No artists with labels found to put in legend.  Note that artists whose label start with an underscore are ignored when legend() is called with no argument.\n",
      "  plt.legend()\n"
     ]
    },
    {
     "data": {
      "image/png": "[encoded data removed]",
      "text/plain": [
       "<Figure size 640x480 with 1 Axes>"
      ]
     },
     "metadata": {},
     "output_type": "display_data"
    },
    {
     "name": "stdout",
     "output_type": "stream",
     "text": [
      "  epoch  :,001,   validation set \n"
     ]
    },
    {
     "name": "stderr",
     "output_type": "stream",
     "text": [
      "/var/folders/sh/s3sz42dj4qz5yww8714w8x680000gp/T/ipykernel_53392/1810783567.py:44: UserWarning: No artists with labels found to put in legend.  Note that artists whose label start with an underscore are ignored when legend() is called with no argument.\n",
      "  plt.legend()\n"
     ]
    },
    {
     "data": {
      "image/png": "[encoded data removed]",
      "text/plain": [
       "<Figure size 640x480 with 1 Axes>"
      ]
     },
     "metadata": {},
     "output_type": "display_data"
    },
    {
     "name": "stdout",
     "output_type": "stream",
     "text": [
      "  epoch  :,001,   test set \n"
     ]
    },
    {
     "name": "stderr",
     "output_type": "stream",
     "text": [
      "/var/folders/sh/s3sz42dj4qz5yww8714w8x680000gp/T/ipykernel_53392/1810783567.py:44: UserWarning: No artists with labels found to put in legend.  Note that artists whose label start with an underscore are ignored when legend() is called with no argument.\n",
      "  plt.legend()\n"
     ]
    },
    {
     "data": {
      "image/png": "[encoded data removed]",
      "text/plain": [
       "<Figure size 640x480 with 1 Axes>"
      ]
     },
     "metadata": {},
     "output_type": "display_data"
    },
    {
     "name": "stdout",
     "output_type": "stream",
     "text": [
      "Epoch: 001, LR: 0.001000, Loss: 2.4579047, Val MAE: 0.4562724, Test MAE: 0.4966446\n",
      "  elapsed time , 1.769113\n",
      "  epoch  :002  train set \n"
     ]
    },
    {
     "name": "stderr",
     "output_type": "stream",
     "text": [
      "/var/folders/sh/s3sz42dj4qz5yww8714w8x680000gp/T/ipykernel_53392/1810783567.py:44: UserWarning: No artists with labels found to put in legend.  Note that artists whose label start with an underscore are ignored when legend() is called with no argument.\n",
      "  plt.legend()\n"
     ]
    },
    {
     "data": {
      "image/png": "[encoded data removed]",
      "text/plain": [
       "<Figure size 640x480 with 1 Axes>"
      ]
     },
     "metadata": {},
     "output_type": "display_data"
    },
    {
     "name": "stdout",
     "output_type": "stream",
     "text": [
      "  epoch  :,002,   validation set \n"
     ]
    },
    {
     "name": "stderr",
     "output_type": "stream",
     "text": [
      "/var/folders/sh/s3sz42dj4qz5yww8714w8x680000gp/T/ipykernel_53392/1810783567.py:44: UserWarning: No artists with labels found to put in legend.  Note that artists whose label start with an underscore are ignored when legend() is called with no argument.\n",
      "  plt.legend()\n"
     ]
    },
    {
     "data": {
      "image/png": "[encoded data removed]",
      "text/plain": [
       "<Figure size 640x480 with 1 Axes>"
      ]
     },
     "metadata": {},
     "output_type": "display_data"
    },
    {
     "name": "stdout",
     "output_type": "stream",
     "text": [
      "  epoch  :,002,   test set \n"
     ]
    },
    {
     "name": "stderr",
     "output_type": "stream",
     "text": [
      "/var/folders/sh/s3sz42dj4qz5yww8714w8x680000gp/T/ipykernel_53392/1810783567.py:44: UserWarning: No artists with labels found to put in legend.  Note that artists whose label start with an underscore are ignored when legend() is called with no argument.\n",
      "  plt.legend()\n"
     ]
    },
    {
     "data": {
      "image/png": "[encoded data removed]",
      "text/plain": [
       "<Figure size 640x480 with 1 Axes>"
      ]
     },
     "metadata": {},
     "output_type": "display_data"
    },
    {
     "name": "stdout",
     "output_type": "stream",
     "text": [
      "Epoch: 002, LR: 0.001000, Loss: 0.6704787, Val MAE: 0.4509683, Test MAE: 0.4709571\n",
      "  elapsed time , 3.306850\n",
      "  epoch  :003  train set \n"
     ]
    },
    {
     "name": "stderr",
     "output_type": "stream",
     "text": [
      "/var/folders/sh/s3sz42dj4qz5yww8714w8x680000gp/T/ipykernel_53392/1810783567.py:44: UserWarning: No artists with labels found to put in legend.  Note that artists whose label start with an underscore are ignored when legend() is called with no argument.\n",
      "  plt.legend()\n"
     ]
    },
    {
     "data": {
      "image/png": "[encoded data removed]",
      "text/plain": [
       "<Figure size 640x480 with 1 Axes>"
      ]
     },
     "metadata": {},
     "output_type": "display_data"
    },
    {
     "name": "stdout",
     "output_type": "stream",
     "text": [
      "  epoch  :,003,   validation set \n"
     ]
    },
    {
     "name": "stderr",
     "output_type": "stream",
     "text": [
      "/var/folders/sh/s3sz42dj4qz5yww8714w8x680000gp/T/ipykernel_53392/1810783567.py:44: UserWarning: No artists with labels found to put in legend.  Note that artists whose label start with an underscore are ignored when legend() is called with no argument.\n",
      "  plt.legend()\n"
     ]
    },
    {
     "data": {
      "image/png": "[encoded data removed]",
      "text/plain": [
       "<Figure size 640x480 with 1 Axes>"
      ]
     },
     "metadata": {},
     "output_type": "display_data"
    },
    {
     "name": "stdout",
     "output_type": "stream",
     "text": [
      "Epoch: 003, LR: 0.001000, Loss: 0.2601713, Val MAE: 0.4524367, Test MAE: 0.4709571\n",
      "  elapsed time , 4.506812\n",
      "  epoch  :004  train set \n"
     ]
    },
    {
     "name": "stderr",
     "output_type": "stream",
     "text": [
      "/var/folders/sh/s3sz42dj4qz5yww8714w8x680000gp/T/ipykernel_53392/1810783567.py:44: UserWarning: No artists with labels found to put in legend.  Note that artists whose label start with an underscore are ignored when legend() is called with no argument.\n",
      "  plt.legend()\n"
     ]
    },
    {
     "data": {
      "image/png": "[encoded data removed]",
      "text/plain": [
       "<Figure size 640x480 with 1 Axes>"
      ]
     },
     "metadata": {},
     "output_type": "display_data"
    },
    {
     "name": "stdout",
     "output_type": "stream",
     "text": [
      "  epoch  :,004,   validation set \n"
     ]
    },
    {
     "name": "stderr",
     "output_type": "stream",
     "text": [
      "/var/folders/sh/s3sz42dj4qz5yww8714w8x680000gp/T/ipykernel_53392/1810783567.py:44: UserWarning: No artists with labels found to put in legend.  Note that artists whose label start with an underscore are ignored when legend() is called with no argument.\n",
      "  plt.legend()\n"
     ]
    },
    {
     "data": {
      "image/png": "[encoded data removed]",
      "text/plain": [
       "<Figure size 640x480 with 1 Axes>"
      ]
     },
     "metadata": {},
     "output_type": "display_data"
    },
    {
     "name": "stdout",
     "output_type": "stream",
     "text": [
      "  epoch  :,004,   test set \n"
     ]
    },
    {
     "name": "stderr",
     "output_type": "stream",
     "text": [
      "/var/folders/sh/s3sz42dj4qz5yww8714w8x680000gp/T/ipykernel_53392/1810783567.py:44: UserWarning: No artists with labels found to put in legend.  Note that artists whose label start with an underscore are ignored when legend() is called with no argument.\n",
      "  plt.legend()\n"
     ]
    },
    {
     "data": {
      "image/png": "[encoded data removed]",
      "text/plain": [
       "<Figure size 640x480 with 1 Axes>"
      ]
     },
     "metadata": {},
     "output_type": "display_data"
    },
    {
     "name": "stdout",
     "output_type": "stream",
     "text": [
      "Epoch: 004, LR: 0.001000, Loss: 0.5115674, Val MAE: 0.4276569, Test MAE: 0.4139039\n",
      "  elapsed time , 6.053493\n",
      "  epoch  :005  train set \n"
     ]
    },
    {
     "name": "stderr",
     "output_type": "stream",
     "text": [
      "/var/folders/sh/s3sz42dj4qz5yww8714w8x680000gp/T/ipykernel_53392/1810783567.py:44: UserWarning: No artists with labels found to put in legend.  Note that artists whose label start with an underscore are ignored when legend() is called with no argument.\n",
      "  plt.legend()\n"
     ]
    },
    {
     "data": {
      "image/png": "[encoded data removed]",
      "text/plain": [
       "<Figure size 640x480 with 1 Axes>"
      ]
     },
     "metadata": {},
     "output_type": "display_data"
    },
    {
     "name": "stdout",
     "output_type": "stream",
     "text": [
      "  epoch  :,005,   validation set \n"
     ]
    },
    {
     "name": "stderr",
     "output_type": "stream",
     "text": [
      "/var/folders/sh/s3sz42dj4qz5yww8714w8x680000gp/T/ipykernel_53392/1810783567.py:44: UserWarning: No artists with labels found to put in legend.  Note that artists whose label start with an underscore are ignored when legend() is called with no argument.\n",
      "  plt.legend()\n"
     ]
    },
    {
     "data": {
      "image/png": "[encoded data removed]",
      "text/plain": [
       "<Figure size 640x480 with 1 Axes>"
      ]
     },
     "metadata": {},
     "output_type": "display_data"
    },
    {
     "name": "stdout",
     "output_type": "stream",
     "text": [
      "  epoch  :,005,   test set \n"
     ]
    },
    {
     "name": "stderr",
     "output_type": "stream",
     "text": [
      "/var/folders/sh/s3sz42dj4qz5yww8714w8x680000gp/T/ipykernel_53392/1810783567.py:44: UserWarning: No artists with labels found to put in legend.  Note that artists whose label start with an underscore are ignored when legend() is called with no argument.\n",
      "  plt.legend()\n"
     ]
    },
    {
     "data": {
      "image/png": "[encoded data removed]",
      "text/plain": [
       "<Figure size 640x480 with 1 Axes>"
      ]
     },
     "metadata": {},
     "output_type": "display_data"
    },
    {
     "name": "stdout",
     "output_type": "stream",
     "text": [
      "Epoch: 005, LR: 0.001000, Loss: 0.2327678, Val MAE: 0.3873044, Test MAE: 0.3781845\n",
      "  elapsed time , 7.421853\n",
      "  epoch  :006  train set \n"
     ]
    },
    {
     "name": "stderr",
     "output_type": "stream",
     "text": [
      "/var/folders/sh/s3sz42dj4qz5yww8714w8x680000gp/T/ipykernel_53392/1810783567.py:44: UserWarning: No artists with labels found to put in legend.  Note that artists whose label start with an underscore are ignored when legend() is called with no argument.\n",
      "  plt.legend()\n"
     ]
    },
    {
     "data": {
      "image/png": "[encoded data removed]",
      "text/plain": [
       "<Figure size 640x480 with 1 Axes>"
      ]
     },
     "metadata": {},
     "output_type": "display_data"
    },
    {
     "name": "stdout",
     "output_type": "stream",
     "text": [
      "  epoch  :,006,   validation set \n"
     ]
    },
    {
     "name": "stderr",
     "output_type": "stream",
     "text": [
      "/var/folders/sh/s3sz42dj4qz5yww8714w8x680000gp/T/ipykernel_53392/1810783567.py:44: UserWarning: No artists with labels found to put in legend.  Note that artists whose label start with an underscore are ignored when legend() is called with no argument.\n",
      "  plt.legend()\n"
     ]
    },
    {
     "data": {
      "image/png": "[encoded data removed]",
      "text/plain": [
       "<Figure size 640x480 with 1 Axes>"
      ]
     },
     "metadata": {},
     "output_type": "display_data"
    },
    {
     "name": "stdout",
     "output_type": "stream",
     "text": [
      "  epoch  :,006,   test set \n"
     ]
    },
    {
     "name": "stderr",
     "output_type": "stream",
     "text": [
      "/var/folders/sh/s3sz42dj4qz5yww8714w8x680000gp/T/ipykernel_53392/1810783567.py:44: UserWarning: No artists with labels found to put in legend.  Note that artists whose label start with an underscore are ignored when legend() is called with no argument.\n",
      "  plt.legend()\n"
     ]
    },
    {
     "data": {
      "image/png": "[encoded data removed]",
      "text/plain": [
       "<Figure size 640x480 with 1 Axes>"
      ]
     },
     "metadata": {},
     "output_type": "display_data"
    },
    {
     "name": "stdout",
     "output_type": "stream",
     "text": [
      "Epoch: 006, LR: 0.001000, Loss: 0.1753235, Val MAE: 0.3265290, Test MAE: 0.3585385\n",
      "  elapsed time , 8.847921\n",
      "  epoch  :007  train set \n"
     ]
    },
    {
     "name": "stderr",
     "output_type": "stream",
     "text": [
      "/var/folders/sh/s3sz42dj4qz5yww8714w8x680000gp/T/ipykernel_53392/1810783567.py:44: UserWarning: No artists with labels found to put in legend.  Note that artists whose label start with an underscore are ignored when legend() is called with no argument.\n",
      "  plt.legend()\n"
     ]
    },
    {
     "data": {
      "image/png": "[encoded data removed]",
      "text/plain": [
       "<Figure size 640x480 with 1 Axes>"
      ]
     },
     "metadata": {},
     "output_type": "display_data"
    },
    {
     "name": "stdout",
     "output_type": "stream",
     "text": [
      "  epoch  :,007,   validation set \n"
     ]
    },
    {
     "name": "stderr",
     "output_type": "stream",
     "text": [
      "/var/folders/sh/s3sz42dj4qz5yww8714w8x680000gp/T/ipykernel_53392/1810783567.py:44: UserWarning: No artists with labels found to put in legend.  Note that artists whose label start with an underscore are ignored when legend() is called with no argument.\n",
      "  plt.legend()\n"
     ]
    },
    {
     "data": {
      "image/png": "[encoded data removed]",
      "text/plain": [
       "<Figure size 640x480 with 1 Axes>"
      ]
     },
     "metadata": {},
     "output_type": "display_data"
    },
    {
     "name": "stdout",
     "output_type": "stream",
     "text": [
      "  epoch  :,007,   test set \n"
     ]
    },
    {
     "name": "stderr",
     "output_type": "stream",
     "text": [
      "/var/folders/sh/s3sz42dj4qz5yww8714w8x680000gp/T/ipykernel_53392/1810783567.py:44: UserWarning: No artists with labels found to put in legend.  Note that artists whose label start with an underscore are ignored when legend() is called with no argument.\n",
      "  plt.legend()\n"
     ]
    },
    {
     "data": {
      "image/png": "[encoded data removed]",
      "text/plain": [
       "<Figure size 640x480 with 1 Axes>"
      ]
     },
     "metadata": {},
     "output_type": "display_data"
    },
    {
     "name": "stdout",
     "output_type": "stream",
     "text": [
      "Epoch: 007, LR: 0.001000, Loss: 0.1322718, Val MAE: 0.2398422, Test MAE: 0.3323065\n",
      "  elapsed time , 10.266058\n",
      "  epoch  :008  train set \n"
     ]
    },
    {
     "name": "stderr",
     "output_type": "stream",
     "text": [
      "/var/folders/sh/s3sz42dj4qz5yww8714w8x680000gp/T/ipykernel_53392/1810783567.py:44: UserWarning: No artists with labels found to put in legend.  Note that artists whose label start with an underscore are ignored when legend() is called with no argument.\n",
      "  plt.legend()\n"
     ]
    },
    {
     "data": {
      "image/png": "[encoded data removed]",
      "text/plain": [
       "<Figure size 640x480 with 1 Axes>"
      ]
     },
     "metadata": {},
     "output_type": "display_data"
    },
    {
     "name": "stdout",
     "output_type": "stream",
     "text": [
      "  epoch  :,008,   validation set \n"
     ]
    },
    {
     "name": "stderr",
     "output_type": "stream",
     "text": [
      "/var/folders/sh/s3sz42dj4qz5yww8714w8x680000gp/T/ipykernel_53392/1810783567.py:44: UserWarning: No artists with labels found to put in legend.  Note that artists whose label start with an underscore are ignored when legend() is called with no argument.\n",
      "  plt.legend()\n"
     ]
    },
    {
     "data": {
      "image/png": "[encoded data removed]",
      "text/plain": [
       "<Figure size 640x480 with 1 Axes>"
      ]
     },
     "metadata": {},
     "output_type": "display_data"
    },
    {
     "name": "stdout",
     "output_type": "stream",
     "text": [
      "Epoch: 008, LR: 0.001000, Loss: 0.1894567, Val MAE: 0.2482452, Test MAE: 0.3323065\n",
      "  elapsed time , 11.519666\n",
      "  epoch  :009  train set \n"
     ]
    },
    {
     "name": "stderr",
     "output_type": "stream",
     "text": [
      "/var/folders/sh/s3sz42dj4qz5yww8714w8x680000gp/T/ipykernel_53392/1810783567.py:44: UserWarning: No artists with labels found to put in legend.  Note that artists whose label start with an underscore are ignored when legend() is called with no argument.\n",
      "  plt.legend()\n"
     ]
    },
    {
     "data": {
      "image/png": "[encoded data removed]",
      "text/plain": [
       "<Figure size 640x480 with 1 Axes>"
      ]
     },
     "metadata": {},
     "output_type": "display_data"
    },
    {
     "name": "stdout",
     "output_type": "stream",
     "text": [
      "  epoch  :,009,   validation set \n"
     ]
    },
    {
     "name": "stderr",
     "output_type": "stream",
     "text": [
      "/var/folders/sh/s3sz42dj4qz5yww8714w8x680000gp/T/ipykernel_53392/1810783567.py:44: UserWarning: No artists with labels found to put in legend.  Note that artists whose label start with an underscore are ignored when legend() is called with no argument.\n",
      "  plt.legend()\n"
     ]
    },
    {
     "data": {
      "image/png": "[encoded data removed]",
      "text/plain": [
       "<Figure size 640x480 with 1 Axes>"
      ]
     },
     "metadata": {},
     "output_type": "display_data"
    },
    {
     "name": "stdout",
     "output_type": "stream",
     "text": [
      "Epoch: 009, LR: 0.001000, Loss: 0.2326034, Val MAE: 0.4848489, Test MAE: 0.3323065\n",
      "  elapsed time , 12.734375\n",
      "  epoch  :010  train set \n"
     ]
    },
    {
     "name": "stderr",
     "output_type": "stream",
     "text": [
      "/var/folders/sh/s3sz42dj4qz5yww8714w8x680000gp/T/ipykernel_53392/1810783567.py:44: UserWarning: No artists with labels found to put in legend.  Note that artists whose label start with an underscore are ignored when legend() is called with no argument.\n",
      "  plt.legend()\n"
     ]
    },
    {
     "data": {
      "image/png": "[encoded data removed]",
      "text/plain": [
       "<Figure size 640x480 with 1 Axes>"
      ]
     },
     "metadata": {},
     "output_type": "display_data"
    },
    {
     "name": "stdout",
     "output_type": "stream",
     "text": [
      "  epoch  :,010,   validation set \n"
     ]
    },
    {
     "name": "stderr",
     "output_type": "stream",
     "text": [
      "/var/folders/sh/s3sz42dj4qz5yww8714w8x680000gp/T/ipykernel_53392/1810783567.py:44: UserWarning: No artists with labels found to put in legend.  Note that artists whose label start with an underscore are ignored when legend() is called with no argument.\n",
      "  plt.legend()\n"
     ]
    },
    {
     "data": {
      "image/png": "[encoded data removed]",
      "text/plain": [
       "<Figure size 640x480 with 1 Axes>"
      ]
     },
     "metadata": {},
     "output_type": "display_data"
    },
    {
     "name": "stdout",
     "output_type": "stream",
     "text": [
      "Epoch: 010, LR: 0.001000, Loss: 0.1126177, Val MAE: 0.4439902, Test MAE: 0.3323065\n",
      "  elapsed time , 14.008039\n"
     ]
    }
   ],
   "source": [
    "model = MPNNModel(num_layers=4, emb_dim=64, in_dim=5, edge_dim=1, out_dim=1)\n",
    "model_name = type(model).__name__\n",
    "n_epochs = 100\n",
    "print ('   evaluate model  ',model_name,'  n_epochs = ',n_epochs)\n",
    "best_val_error, test_error, train_time, perf_per_epoch = run_experiment(\n",
    "    model, \n",
    "    model_name, \n",
    "    train_loader,\n",
    "    val_loader, \n",
    "    test_loader,\n",
    "    n_epochs=n_epochs\n",
    ")\n",
    "RESULTS[model_name] = (best_val_error, test_error, train_time)\n",
    "df_temp = pd.DataFrame(perf_per_epoch, columns=[\"Test MAE\", \"Val MAE\", \"Epoch\", \"Model\"])\n",
    "DF_RESULTS = DF_RESULTS.append(df_temp, ignore_index=True)"
   ]
  },
  {
   "cell_type": "code",
   "execution_count": null,
   "metadata": {},
   "outputs": [],
   "source": [
    "from IPython.core.interactiveshell import InteractiveShell\n",
    "InteractiveShell.ast_node_interactivity = \"all\""
   ]
  },
  {
   "cell_type": "code",
   "execution_count": null,
   "metadata": {
    "id": "v7rtvD0zvmpF"
   },
   "outputs": [],
   "source": [
    "p = sns.lineplot(x=\"Epoch\", y=\"Val MAE\", hue=\"Model\", data=DF_RESULTS)\n",
    "p.set(ylim=(0, 2));"
   ]
  },
  {
   "cell_type": "code",
   "execution_count": null,
   "metadata": {
    "id": "r1pjr7brqKCz"
   },
   "outputs": [],
   "source": [
    "p = sns.lineplot(x=\"Epoch\", y=\"Test MAE\", hue=\"Model\", data=DF_RESULTS)\n",
    "p.set(ylim=(0, 1));"
   ]
  },
  {
   "cell_type": "markdown",
   "metadata": {
    "id": "SQjp21t7Z2UF",
    "lines_to_next_cell": 0
   },
   "source": [
    "Super! Everything up to this point has already been covered in the lectures, and we hope that the practical so far has been a useful recap along with the acompanying code.\n",
    "\n",
    "Now for the fun part, where you will be required to think what you have studied so far!\n",
    "\n",
    "---\n",
    "---\n",
    "---"
   ]
  },
  {
   "cell_type": "code",
   "execution_count": null,
   "metadata": {
    "lines_to_next_cell": 2
   },
   "outputs": [],
   "source": []
  },
  {
   "cell_type": "code",
   "execution_count": null,
   "metadata": {},
   "outputs": [],
   "source": [
    "tt = torch.Tensor([ 0.5392, -0.3957, -0.3674, -0.3929])\n",
    "print (tt, len(tt))\n",
    "path = '/home/para/GNN_loc/NEXT_GNN.pt'\n",
    "print (model)\n",
    "torch.save(model, path)"
   ]
  },
  {
   "cell_type": "code",
   "execution_count": null,
   "metadata": {},
   "outputs": [],
   "source": [
    "path = '/home/para/GNN_loc/NEXT_GNN.pt'\n",
    "print (model)\n",
    "model = torch.load(path)\n",
    "model.eval()"
   ]
  },
  {
   "cell_type": "markdown",
   "metadata": {
    "id": "r5Hzvjjlu8Po"
   },
   "source": [
    "Let's now check that the sparse dataset is actually more sparse than the fully-connected dataset that we have been using throughout the practical:"
   ]
  },
  {
   "cell_type": "code",
   "execution_count": null,
   "metadata": {
    "id": "KcoOtUlRu-7y"
   },
   "outputs": [],
   "source": [
    "val_batch_sparse = next(iter(val_loader_sparse))\n",
    "val_batch_dense = next(iter(val_loader))\n",
    "\n",
    "# These two batches should correspond to the same molecules. Let's add a sanity check\n",
    "assert torch.allclose(val_batch_sparse.y, val_batch_dense.y, atol=1e-4)\n",
    "\n",
    "print(f\"Number of edges in sparse batch {val_batch_sparse.edge_index.shape[-1]}. Number of edges in dense batch {val_batch_dense.edge_index.shape[-1]}\")"
   ]
  },
  {
   "cell_type": "markdown",
   "metadata": {
    "id": "ZmEYl8nUvoiy"
   },
   "source": [
    "Let's now compare the models under the two scenarios:"
   ]
  },
  {
   "cell_type": "code",
   "execution_count": null,
   "metadata": {
    "id": "rA2iXAeg0c1s"
   },
   "outputs": [],
   "source": [
    "sparse_results = {}\n",
    "dense_results = RESULTS"
   ]
  },
  {
   "cell_type": "code",
   "execution_count": null,
   "metadata": {
    "id": "hphYbE9WvnQg"
   },
   "outputs": [],
   "source": [
    "# ============ YOUR CODE HERE ==============\n",
    "# Instantiate your models\n",
    "models = [MPNNModel(), CoordMPNNModel(), InvariantMPNNModel(), FinalMPNNModel()]\n",
    "# ==========================================\n",
    "\n",
    "for model in models:\n",
    "  model_name = type(model).__name__\n",
    "\n",
    "  if model_name not in sparse_results:\n",
    "    sparse_results[model_name] = run_experiment(\n",
    "        model, \n",
    "        model_name, \n",
    "        train_loader_sparse,\n",
    "        val_loader_sparse, \n",
    "        test_loader_sparse,\n",
    "        n_epochs=100\n",
    "    )\n",
    "  \n",
    "  if model_name not in dense_results:\n",
    "    dense_results[model_name] = run_experiment(\n",
    "        model, \n",
    "        model_name, \n",
    "        train_loader,\n",
    "        val_loader, \n",
    "        test_loader,\n",
    "        n_epochs=100\n",
    "    )"
   ]
  },
  {
   "cell_type": "code",
   "execution_count": null,
   "metadata": {
    "id": "Q2RoAlb-ytrE",
    "lines_to_next_cell": 0
   },
   "outputs": [],
   "source": [
    "df_sparse = pd.DataFrame.from_dict(sparse_results, orient='index', columns=['Best val MAE', 'Test MAE', 'Train time', 'Train History'])\n",
    "df_dense = pd.DataFrame.from_dict(dense_results, orient='index', columns=['Best val MAE', 'Test MAE', 'Train time'])\n",
    "df_sparse['type'] = 'sparse'\n",
    "df_dense['type'] = 'dense'\n",
    "df = df_sparse.append(df_dense)\n",
    "\n",
    "sns.set(rc={'figure.figsize':(10, 6)})\n",
    "sns.barplot(x=df.index, y=\"Test MAE\", hue=\"type\", data=df);\n",
    "\n",
    "# You might want to save and download this plot\n",
    "# plt.savefig(\"comparison.png\")\n",
    "# files.download(\"comparison.png\")"
   ]
  },
  {
   "cell_type": "code",
   "execution_count": null,
   "metadata": {
    "lines_to_next_cell": 2
   },
   "outputs": [],
   "source": []
  }
 ],
 "metadata": {
  "accelerator": "GPU",
  "colab": {
   "collapsed_sections": [
    "_l0tU8gum9eT",
    "TAwoHyWs452X",
    "V03t1f51tW2w",
    "0fZTuGyVNC6n",
    "kY6J_vL3hgCN",
    "wqcJy1HtPgj6",
    "yO7iwRjvDD16",
    "c-az-clhTLLv",
    "04WVO1Mnukdm"
   ],
   "provenance": []
  },
  "jupytext": {
   "formats": "ipynb,py:light"
  },
  "kernelspec": {
   "display_name": "Python 3 (ipykernel)",
   "language": "python",
   "name": "python3"
  },
  "language_info": {
   "codemirror_mode": {
    "name": "ipython",
    "version": 3
   },
   "file_extension": ".py",
   "mimetype": "text/x-python",
   "name": "python",
   "nbconvert_exporter": "python",
   "pygments_lexer": "ipython3",
   "version": "3.9.19"
  }
 },
 "nbformat": 4,
 "nbformat_minor": 4
}
